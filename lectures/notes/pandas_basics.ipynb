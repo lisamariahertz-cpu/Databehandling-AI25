{
 "cells": [
  {
   "cell_type": "markdown",
   "metadata": {},
   "source": [
    "## Lecture Notes: Pandas Basics\n",
    "\n",
    "____"
   ]
  },
  {
   "cell_type": "markdown",
   "metadata": {},
   "source": [
    "Goals:\n",
    "\n",
    "Introduce Pandas and key Pandas concepts. By the end, you should understand:\n",
    "\n",
    "* Create ad manipulate Pandas Series and DataFrames\n",
    "* Use essential functions to filter, sort and summarize data\n",
    "* Differentiate between .iloc and .loc for indexing and selecting data\n",
    "* Handle real-world datasets using CSV files\n",
    "\n",
    "____"
   ]
  },
  {
   "cell_type": "markdown",
   "metadata": {},
   "source": [
    "**Create a new environment**\n",
    "\n",
    "Begin by creating a new environment, let's call it *databehandling*.\n",
    "\n",
    "In your command, type the following:\n",
    "\n",
    "        conda create --name databehandling python=3.13\n",
    "\n",
    "After it's created, **active** it and run the following to install some necesarry libraries for this course\n",
    "\n",
    "        pip install numpy pandas openpyxl ipykernel seaborn plotly_express nbformat"
   ]
  },
  {
   "cell_type": "code",
   "execution_count": 1,
   "metadata": {},
   "outputs": [],
   "source": [
    "import random\n",
    "\n",
    "import numpy as np\n",
    "import pandas as pd"
   ]
  },
  {
   "cell_type": "markdown",
   "metadata": {},
   "source": [
    "---"
   ]
  },
  {
   "cell_type": "markdown",
   "metadata": {},
   "source": [
    "## Pandas Series\n",
    "\n",
    "A pandas Series is a one-dimensional-array-like object that can hold any data type (integers, floats, strings, etc etc)\n",
    "\n",
    "**Creating a Series**\n",
    "\n",
    "You can create a Series from e.g., a list, an array or a dictionary."
   ]
  },
  {
   "cell_type": "code",
   "execution_count": 2,
   "metadata": {},
   "outputs": [
    {
     "name": "stdout",
     "output_type": "stream",
     "text": [
      "[30, 31, 32, 33, 34, 35, 36, 37, 38, 39]\n"
     ]
    }
   ],
   "source": [
    "# create a Series using a list\n",
    "\n",
    "number_list = [x for x in range(30, 40)]\n",
    "\n",
    "print(number_list)"
   ]
  },
  {
   "cell_type": "code",
   "execution_count": 3,
   "metadata": {},
   "outputs": [
    {
     "data": {
      "text/plain": [
       "0    30\n",
       "1    31\n",
       "2    32\n",
       "3    33\n",
       "4    34\n",
       "5    35\n",
       "6    36\n",
       "7    37\n",
       "8    38\n",
       "9    39\n",
       "dtype: int64"
      ]
     },
     "execution_count": 3,
     "metadata": {},
     "output_type": "execute_result"
    }
   ],
   "source": [
    "my_first_series = pd.Series(number_list)  # creates a Series-object from the provided list\n",
    "\n",
    "my_first_series"
   ]
  },
  {
   "cell_type": "code",
   "execution_count": 4,
   "metadata": {},
   "outputs": [
    {
     "data": {
      "text/plain": [
       "True"
      ]
     },
     "execution_count": 4,
     "metadata": {},
     "output_type": "execute_result"
    }
   ],
   "source": [
    "isinstance(my_first_series, pd.Series)"
   ]
  },
  {
   "cell_type": "markdown",
   "metadata": {},
   "source": [
    "Here are some basic class methods for Series:"
   ]
  },
  {
   "cell_type": "code",
   "execution_count": 5,
   "metadata": {},
   "outputs": [
    {
     "name": "stdout",
     "output_type": "stream",
     "text": [
      "Seriens minsta värde      : 30\n",
      "Seriens största värde     : 39\n",
      "Seriens medelvärde        : 34.5\n",
      "Seriens standardavvikelse : 3.0276503540974917\n"
     ]
    }
   ],
   "source": [
    "print(f'Seriens minsta värde      : {my_first_series.min()}')\n",
    "print(f'Seriens största värde     : {my_first_series.max()}')\n",
    "print(f'Seriens medelvärde        : {my_first_series.mean()}')\n",
    "print(f'Seriens standardavvikelse : {my_first_series.std()}')"
   ]
  },
  {
   "cell_type": "markdown",
   "metadata": {},
   "source": [
    "**Interaction with other Series object**\n",
    "\n",
    "How does a Series object interact with other objects of the same class under e.g., addition or multiplication?"
   ]
  },
  {
   "cell_type": "code",
   "execution_count": 6,
   "metadata": {},
   "outputs": [
    {
     "data": {
      "text/plain": [
       "[1, 2, 3, 5, 6, 7]"
      ]
     },
     "execution_count": 6,
     "metadata": {},
     "output_type": "execute_result"
    }
   ],
   "source": [
    "list_one = [1,2,3]\n",
    "list_two = [5,6,7]\n",
    "\n",
    "list_one + list_two "
   ]
  },
  {
   "cell_type": "code",
   "execution_count": 7,
   "metadata": {},
   "outputs": [
    {
     "data": {
      "text/plain": [
       "0     6\n",
       "1     8\n",
       "2    10\n",
       "dtype: int64"
      ]
     },
     "execution_count": 7,
     "metadata": {},
     "output_type": "execute_result"
    }
   ],
   "source": [
    "series_one = pd.Series(list_one)\n",
    "series_two = pd.Series(list_two)\n",
    "\n",
    "# elementwise addition\n",
    "series_one + series_two\n",
    "\n",
    "# NOTE: returns a new Series-type object!"
   ]
  },
  {
   "cell_type": "code",
   "execution_count": 8,
   "metadata": {},
   "outputs": [
    {
     "data": {
      "text/plain": [
       "0     5\n",
       "1    12\n",
       "2    21\n",
       "dtype: int64"
      ]
     },
     "execution_count": 8,
     "metadata": {},
     "output_type": "execute_result"
    }
   ],
   "source": [
    "# elemtwise multiplication\n",
    "series_one*series_two"
   ]
  },
  {
   "cell_type": "code",
   "execution_count": 9,
   "metadata": {},
   "outputs": [
    {
     "data": {
      "text/plain": [
       "0    0.200000\n",
       "1    0.333333\n",
       "2    0.428571\n",
       "dtype: float64"
      ]
     },
     "execution_count": 9,
     "metadata": {},
     "output_type": "execute_result"
    }
   ],
   "source": [
    "# elemtwise division\n",
    "series_one/series_two"
   ]
  },
  {
   "cell_type": "code",
   "execution_count": 10,
   "metadata": {},
   "outputs": [
    {
     "data": {
      "text/plain": [
       "0       1\n",
       "1      64\n",
       "2    2187\n",
       "dtype: int64"
      ]
     },
     "execution_count": 10,
     "metadata": {},
     "output_type": "execute_result"
    }
   ],
   "source": [
    "# elemtwise exponentiation\n",
    "series_one**series_two"
   ]
  },
  {
   "cell_type": "markdown",
   "metadata": {},
   "source": [
    "We can extract individual elements from a Series by simple indexing"
   ]
  },
  {
   "cell_type": "code",
   "execution_count": 11,
   "metadata": {},
   "outputs": [
    {
     "data": {
      "text/plain": [
       "np.int64(31)"
      ]
     },
     "execution_count": 11,
     "metadata": {},
     "output_type": "execute_result"
    }
   ],
   "source": [
    "my_first_series[1]"
   ]
  },
  {
   "cell_type": "markdown",
   "metadata": {},
   "source": [
    "We can also extract multiple elements simultaneously"
   ]
  },
  {
   "cell_type": "code",
   "execution_count": 12,
   "metadata": {},
   "outputs": [
    {
     "data": {
      "text/plain": [
       "0    30\n",
       "1    31\n",
       "2    32\n",
       "3    33\n",
       "dtype: int64"
      ]
     },
     "execution_count": 12,
     "metadata": {},
     "output_type": "execute_result"
    }
   ],
   "source": [
    "my_first_series[:4]"
   ]
  },
  {
   "cell_type": "markdown",
   "metadata": {},
   "source": [
    "Read more about these operations and methods in the documentation!"
   ]
  },
  {
   "cell_type": "markdown",
   "metadata": {},
   "source": [
    "---"
   ]
  },
  {
   "cell_type": "markdown",
   "metadata": {},
   "source": [
    "## Pandas DataFrame\n",
    "\n",
    "a dataframe is a 2D labeled data structure in Pandas, similar to a table or a spreadsheet.\n",
    "\n",
    "Each column might hold different types of data (integers, floats, strings, etc.)\n",
    "\n",
    "Let's create our frist DataFrame"
   ]
  },
  {
   "cell_type": "code",
   "execution_count": 13,
   "metadata": {},
   "outputs": [
    {
     "data": {
      "text/plain": [
       "{'name': ['Amir', 'Sawash', 'Rozann', 'Ali'],\n",
       " 'age': [2.5, 5, 31, 35],\n",
       " 'eye color': ['blue', 'brown', 'green', 'brown']}"
      ]
     },
     "execution_count": 13,
     "metadata": {},
     "output_type": "execute_result"
    }
   ],
   "source": [
    "names = ['Amir', 'Sawash', 'Rozann', 'Ali']\n",
    "ages = [2.5, 5, 31, 35]\n",
    "eye_colors = ['blue', 'brown', 'green', 'brown']\n",
    "\n",
    "# we can with ease create DataFrames using dictionaries\n",
    "\n",
    "family_dict = {'name': names, \n",
    "               'age': ages, \n",
    "               'eye color': eye_colors}\n",
    "\n",
    "family_dict\n"
   ]
  },
  {
   "cell_type": "code",
   "execution_count": 14,
   "metadata": {},
   "outputs": [
    {
     "data": {
      "text/html": [
       "<div>\n",
       "<style scoped>\n",
       "    .dataframe tbody tr th:only-of-type {\n",
       "        vertical-align: middle;\n",
       "    }\n",
       "\n",
       "    .dataframe tbody tr th {\n",
       "        vertical-align: top;\n",
       "    }\n",
       "\n",
       "    .dataframe thead th {\n",
       "        text-align: right;\n",
       "    }\n",
       "</style>\n",
       "<table border=\"1\" class=\"dataframe\">\n",
       "  <thead>\n",
       "    <tr style=\"text-align: right;\">\n",
       "      <th></th>\n",
       "      <th>name</th>\n",
       "      <th>age</th>\n",
       "      <th>eye color</th>\n",
       "    </tr>\n",
       "  </thead>\n",
       "  <tbody>\n",
       "    <tr>\n",
       "      <th>0</th>\n",
       "      <td>Amir</td>\n",
       "      <td>2.5</td>\n",
       "      <td>blue</td>\n",
       "    </tr>\n",
       "    <tr>\n",
       "      <th>1</th>\n",
       "      <td>Sawash</td>\n",
       "      <td>5.0</td>\n",
       "      <td>brown</td>\n",
       "    </tr>\n",
       "    <tr>\n",
       "      <th>2</th>\n",
       "      <td>Rozann</td>\n",
       "      <td>31.0</td>\n",
       "      <td>green</td>\n",
       "    </tr>\n",
       "    <tr>\n",
       "      <th>3</th>\n",
       "      <td>Ali</td>\n",
       "      <td>35.0</td>\n",
       "      <td>brown</td>\n",
       "    </tr>\n",
       "  </tbody>\n",
       "</table>\n",
       "</div>"
      ],
      "text/plain": [
       "     name   age eye color\n",
       "0    Amir   2.5      blue\n",
       "1  Sawash   5.0     brown\n",
       "2  Rozann  31.0     green\n",
       "3     Ali  35.0     brown"
      ]
     },
     "execution_count": 14,
     "metadata": {},
     "output_type": "execute_result"
    }
   ],
   "source": [
    "# _df is standard naming convention to signify the object in question is a DataFrame\n",
    "\n",
    "family_df =  pd.DataFrame(family_dict)\n",
    "\n",
    "family_df"
   ]
  },
  {
   "cell_type": "code",
   "execution_count": 15,
   "metadata": {},
   "outputs": [
    {
     "data": {
      "text/plain": [
       "True"
      ]
     },
     "execution_count": 15,
     "metadata": {},
     "output_type": "execute_result"
    }
   ],
   "source": [
    "isinstance(family_df, pd.DataFrame)"
   ]
  },
  {
   "cell_type": "code",
   "execution_count": 16,
   "metadata": {},
   "outputs": [
    {
     "name": "stdout",
     "output_type": "stream",
     "text": [
      "<class 'pandas.core.frame.DataFrame'>\n",
      "RangeIndex: 4 entries, 0 to 3\n",
      "Data columns (total 3 columns):\n",
      " #   Column     Non-Null Count  Dtype  \n",
      "---  ------     --------------  -----  \n",
      " 0   name       4 non-null      object \n",
      " 1   age        4 non-null      float64\n",
      " 2   eye color  4 non-null      object \n",
      "dtypes: float64(1), object(2)\n",
      "memory usage: 228.0+ bytes\n"
     ]
    }
   ],
   "source": [
    "# an important method is .info(), it gives us general meta-data about the contents of the dataframe\n",
    "# note that Dtype \"object\" signifies either \"string\" or mixed type column (e.g., strings and integers)\n",
    "\n",
    "family_df.info()"
   ]
  },
  {
   "cell_type": "markdown",
   "metadata": {},
   "source": [
    "We can select specific columns from our DataFrame using the column names\n"
   ]
  },
  {
   "cell_type": "code",
   "execution_count": 17,
   "metadata": {},
   "outputs": [
    {
     "data": {
      "text/plain": [
       "0      Amir\n",
       "1    Sawash\n",
       "2    Rozann\n",
       "3       Ali\n",
       "Name: name, dtype: object"
      ]
     },
     "execution_count": 17,
     "metadata": {},
     "output_type": "execute_result"
    }
   ],
   "source": [
    "# note that the returned column is given as a Series object!\n",
    "\n",
    "family_df['name']"
   ]
  },
  {
   "cell_type": "markdown",
   "metadata": {},
   "source": [
    "We can also extract individual columns by callon on their names as attributes"
   ]
  },
  {
   "cell_type": "code",
   "execution_count": 18,
   "metadata": {},
   "outputs": [
    {
     "data": {
      "text/plain": [
       "0      Amir\n",
       "1    Sawash\n",
       "2    Rozann\n",
       "3       Ali\n",
       "Name: name, dtype: object"
      ]
     },
     "execution_count": 18,
     "metadata": {},
     "output_type": "execute_result"
    }
   ],
   "source": [
    "family_df.name"
   ]
  },
  {
   "cell_type": "code",
   "execution_count": 19,
   "metadata": {},
   "outputs": [
    {
     "ename": "SyntaxError",
     "evalue": "invalid syntax (2509278268.py, line 5)",
     "output_type": "error",
     "traceback": [
      "  \u001b[36mCell\u001b[39m\u001b[36m \u001b[39m\u001b[32mIn[19]\u001b[39m\u001b[32m, line 5\u001b[39m\n\u001b[31m    \u001b[39m\u001b[31mfamily_df.eye color\u001b[39m\n                  ^\n\u001b[31mSyntaxError\u001b[39m\u001b[31m:\u001b[39m invalid syntax\n"
     ]
    }
   ],
   "source": [
    "# note that calling on columns using the attribute technique is prone to errors, \n",
    "# specifically if we e.g., have blanc spaces in the column names\n",
    "\n",
    "\n",
    "family_df.eye color"
   ]
  },
  {
   "cell_type": "code",
   "execution_count": null,
   "metadata": {},
   "outputs": [],
   "source": [
    "family_df['eye color']"
   ]
  },
  {
   "cell_type": "markdown",
   "metadata": {},
   "source": [
    "We can index several columns at once by passing a list of column names to the DataFrame"
   ]
  },
  {
   "cell_type": "code",
   "execution_count": null,
   "metadata": {},
   "outputs": [],
   "source": [
    "family_df[['name', 'age']]"
   ]
  },
  {
   "cell_type": "markdown",
   "metadata": {},
   "source": [
    "---"
   ]
  },
  {
   "cell_type": "markdown",
   "metadata": {},
   "source": [
    "## Further indexing"
   ]
  },
  {
   "cell_type": "markdown",
   "metadata": {},
   "source": [
    "In Pandas, selecting specific rows and columns is essential for analyzing data. Pandas offers two primary methods to do this:\n",
    "\n",
    ".iloc[] # index location\n",
    "\n",
    ".loc[]  # location"
   ]
  },
  {
   "cell_type": "code",
   "execution_count": null,
   "metadata": {},
   "outputs": [],
   "source": [
    "family_df"
   ]
  },
  {
   "cell_type": "code",
   "execution_count": null,
   "metadata": {},
   "outputs": [],
   "source": [
    "family_df[0]    # this does NOT work for a DataFrame"
   ]
  },
  {
   "cell_type": "code",
   "execution_count": null,
   "metadata": {},
   "outputs": [],
   "source": [
    "# let's create some new data\n",
    "data = {\n",
    "        'Name' : ['Alice', 'Bob', 'Charlie', 'David', 'Eva', 'Frank', 'Grace', 'Helen', 'Ian'],\n",
    "        'Age' : [25, 30, 35, 40, 22, 29, 28, 22, 31], \n",
    "        'Salary': [50000, 60000, 70000, 80000, 52000, 62000, 75000, 55000, 100000]\n",
    "        }\n",
    "\n",
    "df = pd.DataFrame(data)\n",
    "\n",
    "df"
   ]
  },
  {
   "cell_type": "markdown",
   "metadata": {},
   "source": [
    "Before proceeding, remember that we can get access to Series methods very simply by e.g., first querying on a given column"
   ]
  },
  {
   "cell_type": "code",
   "execution_count": null,
   "metadata": {},
   "outputs": [],
   "source": [
    "print(df['Salary'].mean().round(3))"
   ]
  },
  {
   "cell_type": "markdown",
   "metadata": {},
   "source": [
    "**.iloc[] position-based indexing**\n",
    "\n",
    "Use .iloc[] to select data based on the position of rows and columns\n",
    "\n",
    "The general syntax is\n",
    "\n",
    ".iloc[row_indexer, column_indexer]"
   ]
  },
  {
   "cell_type": "code",
   "execution_count": null,
   "metadata": {},
   "outputs": [],
   "source": [
    "# if we provide only one index, it'll be understood by Pandas to be the row index\n",
    "\n",
    "df.iloc[0]   # select the first row"
   ]
  },
  {
   "cell_type": "code",
   "execution_count": null,
   "metadata": {},
   "outputs": [],
   "source": [
    "# we can use slicing to select multiple rows\n",
    "\n",
    "df.iloc[1:5]   # rows 1 to 4 (5 not included)"
   ]
  },
  {
   "cell_type": "code",
   "execution_count": null,
   "metadata": {},
   "outputs": [],
   "source": [
    "my_slice_df = df.iloc[1:5]\n",
    "\n",
    "my_slice_df"
   ]
  },
  {
   "cell_type": "markdown",
   "metadata": {},
   "source": [
    "Let's now also give the column index"
   ]
  },
  {
   "cell_type": "code",
   "execution_count": null,
   "metadata": {},
   "outputs": [],
   "source": [
    "df"
   ]
  },
  {
   "cell_type": "code",
   "execution_count": null,
   "metadata": {},
   "outputs": [],
   "source": [
    "print(df.iloc[3, 2])  # select the value in the row with index 3, and column with index 2 (Salary)\n",
    "\n",
    "print(df.iloc[6, 1])  # select the value in the row with index 6, and column with index 1 (Age)"
   ]
  },
  {
   "cell_type": "code",
   "execution_count": null,
   "metadata": {},
   "outputs": [],
   "source": [
    "df"
   ]
  },
  {
   "cell_type": "code",
   "execution_count": null,
   "metadata": {},
   "outputs": [],
   "source": [
    "df.iloc[1:4, 0:2]   # rows 1 to 3 (4 not included), columns 0 and 1 (2 not included)"
   ]
  },
  {
   "cell_type": "code",
   "execution_count": null,
   "metadata": {},
   "outputs": [],
   "source": [
    "df.iloc[2:4, 1:]   # 2:4 means rows 2 and 3 (4 not included), 1: means all columns from column 1 "
   ]
  },
  {
   "cell_type": "code",
   "execution_count": null,
   "metadata": {},
   "outputs": [],
   "source": [
    "df.iloc[1:4, :]   # : means all columns"
   ]
  },
  {
   "cell_type": "markdown",
   "metadata": {},
   "source": [
    "We can also give a list of either rows/columns that we want to index"
   ]
  },
  {
   "cell_type": "code",
   "execution_count": null,
   "metadata": {},
   "outputs": [],
   "source": [
    "df"
   ]
  },
  {
   "cell_type": "code",
   "execution_count": null,
   "metadata": {},
   "outputs": [],
   "source": [
    "df.iloc[[1, 2, 7], [1, 2]]"
   ]
  },
  {
   "cell_type": "markdown",
   "metadata": {},
   "source": [
    "**loc**\n",
    "\n",
    "Use .loc[] to select data based on labels (row index and column names)"
   ]
  },
  {
   "cell_type": "code",
   "execution_count": null,
   "metadata": {},
   "outputs": [],
   "source": [
    "data = {\n",
    "        'Name' : ['Alice', 'Bob', 'Charlie', 'David', 'Eva', 'Frank', 'Grace', 'Helen', 'Ian'],\n",
    "        'Age' : [25, 30, 35, 40, 22, 29, 28, 22, 31], \n",
    "        'Salary': [50000, 60000, 70000, 80000, 52000, 62000, 75000, 55000, 100000]\n",
    "        }\n",
    "\n",
    "df = pd.DataFrame(data, index=['a', 'b', 'c', 'd', 'e', 'f', 'g', 'h', 'i'])\n",
    "\n",
    "\n",
    "df"
   ]
  },
  {
   "cell_type": "markdown",
   "metadata": {},
   "source": [
    "Note that even though we have a custom index, .iloc[] still works"
   ]
  },
  {
   "cell_type": "code",
   "execution_count": null,
   "metadata": {},
   "outputs": [],
   "source": [
    "df.iloc[1:4, 0:2]"
   ]
  },
  {
   "cell_type": "markdown",
   "metadata": {},
   "source": [
    "The syntax for .loc is the same as for .iloc, but instead of using integer indeces, we use labels.\n",
    "\n",
    "The general syntax is \n",
    "\n",
    ".loc[row_label, column_label]"
   ]
  },
  {
   "cell_type": "code",
   "execution_count": null,
   "metadata": {},
   "outputs": [],
   "source": [
    "df.loc['e']   # select the row with label 'e'"
   ]
  },
  {
   "cell_type": "code",
   "execution_count": null,
   "metadata": {},
   "outputs": [],
   "source": [
    "print(df.loc['d', 'Salary'])  # select the element at row 'b' and column 'Age'"
   ]
  },
  {
   "cell_type": "code",
   "execution_count": null,
   "metadata": {},
   "outputs": [],
   "source": [
    "df.loc[['a', 'c', 'e'], ['Name', 'Salary']]   # select rows 'a', 'c', 'e' and columns 'Name', 'Salary'"
   ]
  },
  {
   "cell_type": "code",
   "execution_count": null,
   "metadata": {},
   "outputs": [],
   "source": [
    "df.loc['a':'d']  # slicing works for labels too, under very strict conditions - but it always works for .iloc"
   ]
  },
  {
   "cell_type": "markdown",
   "metadata": {},
   "source": [
    "---"
   ]
  },
  {
   "cell_type": "markdown",
   "metadata": {},
   "source": [
    "## Masking"
   ]
  },
  {
   "cell_type": "markdown",
   "metadata": {},
   "source": [
    "Masking is a powerful feature in Pandas that allows you to filter data based on certain conditions.\n",
    "\n",
    "Masking is often used to filter data, perform calculations or create subsets of data for further analysis."
   ]
  },
  {
   "cell_type": "code",
   "execution_count": null,
   "metadata": {},
   "outputs": [],
   "source": [
    "family_df"
   ]
  },
  {
   "cell_type": "code",
   "execution_count": null,
   "metadata": {},
   "outputs": [],
   "source": [
    "# the above df has 4 rows, so let's create a list of booleans of the same size\n",
    "\n",
    "my_mask = [True, False, True, False]\n",
    "\n",
    "family_df[my_mask]         # the rows in which the mask is True are returned"
   ]
  },
  {
   "cell_type": "code",
   "execution_count": null,
   "metadata": {},
   "outputs": [],
   "source": [
    "# we have extreme flexibility here, and can use any condition we want to create our mask\n",
    "\n",
    "eye_color_mask = [color == 'brown' for color in family_df['eye color']]\n",
    "\n",
    "print(eye_color_mask)\n",
    "\n",
    "family_df[eye_color_mask]  # the rows where eye color is brown are returned"
   ]
  },
  {
   "cell_type": "code",
   "execution_count": null,
   "metadata": {},
   "outputs": [],
   "source": [
    "family_df['eye color'] == 'brown'    # elemetwise comparison, returns a Series of booleans"
   ]
  },
  {
   "cell_type": "code",
   "execution_count": null,
   "metadata": {},
   "outputs": [],
   "source": [
    "my_color_mask = family_df['eye color'] == 'brown'\n",
    "\n",
    "family_df[my_color_mask]"
   ]
  },
  {
   "cell_type": "code",
   "execution_count": null,
   "metadata": {},
   "outputs": [],
   "source": [
    "family_df[ family_df['eye color']=='brown' ]"
   ]
  },
  {
   "cell_type": "code",
   "execution_count": null,
   "metadata": {},
   "outputs": [],
   "source": [
    "age_mask = family_df['age'] < 25\n",
    "\n",
    "kids_df = family_df[age_mask]\n",
    "\n",
    "kids_df"
   ]
  },
  {
   "cell_type": "markdown",
   "metadata": {},
   "source": [
    "We can *negate* a mask by using the ~ symbol. Negating means that we get the opposite"
   ]
  },
  {
   "cell_type": "code",
   "execution_count": null,
   "metadata": {},
   "outputs": [],
   "source": [
    "~age_mask    # we get the opposite of age_mask, i.e., all rows it was False is now True, and vice versa.\n",
    "             # only works if your mask is a Series"
   ]
  },
  {
   "cell_type": "code",
   "execution_count": null,
   "metadata": {},
   "outputs": [],
   "source": [
    "adults_df = family_df[~age_mask]\n",
    "\n",
    "adults_df"
   ]
  },
  {
   "cell_type": "code",
   "execution_count": null,
   "metadata": {},
   "outputs": [],
   "source": [
    "adults_df = adults_df.reset_index(drop=True)\n",
    "\n",
    "adults_df"
   ]
  },
  {
   "cell_type": "markdown",
   "metadata": {},
   "source": [
    "We can combine filters (masks) too!\n",
    "\n",
    "Only rows that satisfy all masks will then be returned"
   ]
  },
  {
   "cell_type": "code",
   "execution_count": null,
   "metadata": {},
   "outputs": [],
   "source": [
    "print(age_mask)\n",
    "print(eye_color_mask)"
   ]
  },
  {
   "cell_type": "code",
   "execution_count": null,
   "metadata": {},
   "outputs": [],
   "source": [
    "family_df[age_mask & eye_color_mask]   # only the last row satisfy both masks"
   ]
  },
  {
   "cell_type": "markdown",
   "metadata": {},
   "source": [
    "Just a little bit more fun"
   ]
  },
  {
   "cell_type": "code",
   "execution_count": null,
   "metadata": {},
   "outputs": [],
   "source": [
    "df"
   ]
  },
  {
   "cell_type": "code",
   "execution_count": null,
   "metadata": {},
   "outputs": [],
   "source": [
    "short_names_mask = [len(name) < 4 for name in df['Name']]\n",
    "\n",
    "short_names_mask"
   ]
  },
  {
   "cell_type": "code",
   "execution_count": null,
   "metadata": {},
   "outputs": [],
   "source": [
    "df[short_names_mask]"
   ]
  },
  {
   "cell_type": "markdown",
   "metadata": {},
   "source": [
    "---"
   ]
  },
  {
   "cell_type": "markdown",
   "metadata": {},
   "source": [
    "## Read excel"
   ]
  },
  {
   "cell_type": "code",
   "execution_count": null,
   "metadata": {},
   "outputs": [],
   "source": [
    "calories_df = pd.read_excel('../../data/calories.xlsx')\n",
    "\n",
    "calories_df.head()    # shows the first 5 rows of the DataFrame\n"
   ]
  },
  {
   "cell_type": "code",
   "execution_count": null,
   "metadata": {},
   "outputs": [],
   "source": [
    "calories_df.head(10)  # default is 5, but we can change it"
   ]
  },
  {
   "cell_type": "code",
   "execution_count": null,
   "metadata": {},
   "outputs": [],
   "source": [
    "calories_df.tail()    # shows by default the last 5 rows, but can be changed as well"
   ]
  },
  {
   "cell_type": "code",
   "execution_count": null,
   "metadata": {},
   "outputs": [],
   "source": [
    "calories_df.info()"
   ]
  },
  {
   "cell_type": "code",
   "execution_count": null,
   "metadata": {},
   "outputs": [],
   "source": [
    "# see how many unique values a given column has\n",
    "\n",
    "calories_df['FoodCategory'].nunique()  # nunique stands for number of unique"
   ]
  },
  {
   "cell_type": "code",
   "execution_count": null,
   "metadata": {},
   "outputs": [],
   "source": [
    "# return the unique values of a given column\n",
    "\n",
    "calories_df['FoodCategory'].unique()"
   ]
  },
  {
   "cell_type": "code",
   "execution_count": null,
   "metadata": {},
   "outputs": [],
   "source": [
    "calories_df['FoodCategory'].value_counts()"
   ]
  },
  {
   "cell_type": "code",
   "execution_count": null,
   "metadata": {},
   "outputs": [],
   "source": [
    "calories_df[ calories_df['FoodCategory'] == 'FastFood' ]"
   ]
  },
  {
   "cell_type": "markdown",
   "metadata": {},
   "source": [
    "---\n",
    "\n",
    "## Rename columns"
   ]
  },
  {
   "cell_type": "code",
   "execution_count": null,
   "metadata": {},
   "outputs": [],
   "source": [
    "calories_df"
   ]
  },
  {
   "cell_type": "code",
   "execution_count": null,
   "metadata": {},
   "outputs": [],
   "source": [
    "calories_df.rename(columns={'FoodItem':'Food'}, inplace=True)"
   ]
  },
  {
   "cell_type": "code",
   "execution_count": null,
   "metadata": {},
   "outputs": [],
   "source": [
    "calories_df.head()"
   ]
  },
  {
   "cell_type": "markdown",
   "metadata": {},
   "source": [
    "---\n",
    "\n",
    "## A bit of data cleaning"
   ]
  },
  {
   "cell_type": "markdown",
   "metadata": {},
   "source": [
    "We will very often need to handle and manipulate data in dataframes, e.g.,\n",
    "\n",
    "change column names, change element values, create new columns, handle missing data, alter values etc etc."
   ]
  },
  {
   "cell_type": "code",
   "execution_count": null,
   "metadata": {},
   "outputs": [],
   "source": [
    "calories_df.head()"
   ]
  },
  {
   "cell_type": "code",
   "execution_count": null,
   "metadata": {},
   "outputs": [],
   "source": [
    "# we can index elements in a string Series by using .str[]\n",
    "\n",
    "calories_df['Cals_per100grams'].str[:4]"
   ]
  },
  {
   "cell_type": "code",
   "execution_count": null,
   "metadata": {},
   "outputs": [],
   "source": [
    "# we can convert datatype to e.g., int (if all elements allow it)\n",
    "\n",
    "calories_df['Cals_per100grams'].str[:-3].astype(int)"
   ]
  },
  {
   "cell_type": "code",
   "execution_count": null,
   "metadata": {},
   "outputs": [],
   "source": [
    "calories_df['Cals_per100grams (in integers)'] = calories_df['Cals_per100grams'].str[:-3].astype(int)"
   ]
  },
  {
   "cell_type": "code",
   "execution_count": null,
   "metadata": {},
   "outputs": [],
   "source": [
    "calories_df.head()"
   ]
  },
  {
   "cell_type": "code",
   "execution_count": null,
   "metadata": {},
   "outputs": [],
   "source": [
    "calories_df['Cals_per100grams (in integers method 2)'] = [int(x.split()[0]) for x in calories_df['Cals_per100grams']]"
   ]
  },
  {
   "cell_type": "code",
   "execution_count": null,
   "metadata": {},
   "outputs": [],
   "source": [
    "calories_df.head()"
   ]
  },
  {
   "cell_type": "markdown",
   "metadata": {},
   "source": [
    "---\n",
    "\n",
    "## Sort DataFrame\n",
    "\n"
   ]
  },
  {
   "cell_type": "code",
   "execution_count": null,
   "metadata": {},
   "outputs": [],
   "source": [
    "calories_df.sort_values(by='Cals_per100grams (in integers)')  # by default, ascending = True"
   ]
  },
  {
   "cell_type": "code",
   "execution_count": null,
   "metadata": {},
   "outputs": [],
   "source": [
    "calories_df.sort_values(by='Cals_per100grams (in integers)', ascending=False)"
   ]
  },
  {
   "cell_type": "code",
   "execution_count": null,
   "metadata": {},
   "outputs": [],
   "source": [
    "calories_df.iloc[1621]"
   ]
  },
  {
   "cell_type": "markdown",
   "metadata": {},
   "source": [
    "---\n",
    "\n",
    "#### Read excel with several scheets and choose header column"
   ]
  },
  {
   "cell_type": "code",
   "execution_count": 31,
   "metadata": {},
   "outputs": [
    {
     "data": {
      "text/html": [
       "<div>\n",
       "<style scoped>\n",
       "    .dataframe tbody tr th:only-of-type {\n",
       "        vertical-align: middle;\n",
       "    }\n",
       "\n",
       "    .dataframe tbody tr th {\n",
       "        vertical-align: top;\n",
       "    }\n",
       "\n",
       "    .dataframe thead th {\n",
       "        text-align: right;\n",
       "    }\n",
       "</style>\n",
       "<table border=\"1\" class=\"dataframe\">\n",
       "  <thead>\n",
       "    <tr style=\"text-align: right;\">\n",
       "      <th></th>\n",
       "      <th>2020</th>\n",
       "      <th>2019</th>\n",
       "      <th>Kommun</th>\n",
       "      <th>Folkmängd 31 dec 2020</th>\n",
       "      <th>2019.1</th>\n",
       "      <th>Diff</th>\n",
       "    </tr>\n",
       "  </thead>\n",
       "  <tbody>\n",
       "    <tr>\n",
       "      <th>2</th>\n",
       "      <td>3</td>\n",
       "      <td>3</td>\n",
       "      <td>Malmö</td>\n",
       "      <td>347949</td>\n",
       "      <td>344166</td>\n",
       "      <td>3783</td>\n",
       "    </tr>\n",
       "    <tr>\n",
       "      <th>1</th>\n",
       "      <td>2</td>\n",
       "      <td>2</td>\n",
       "      <td>Göteborg</td>\n",
       "      <td>583056</td>\n",
       "      <td>579281</td>\n",
       "      <td>3775</td>\n",
       "    </tr>\n",
       "    <tr>\n",
       "      <th>3</th>\n",
       "      <td>4</td>\n",
       "      <td>4</td>\n",
       "      <td>Uppsala</td>\n",
       "      <td>233839</td>\n",
       "      <td>230767</td>\n",
       "      <td>3072</td>\n",
       "    </tr>\n",
       "    <tr>\n",
       "      <th>23</th>\n",
       "      <td>24</td>\n",
       "      <td>24</td>\n",
       "      <td>Haninge</td>\n",
       "      <td>93690</td>\n",
       "      <td>92095</td>\n",
       "      <td>1595</td>\n",
       "    </tr>\n",
       "    <tr>\n",
       "      <th>4</th>\n",
       "      <td>5</td>\n",
       "      <td>5</td>\n",
       "      <td>Linköping</td>\n",
       "      <td>164616</td>\n",
       "      <td>163051</td>\n",
       "      <td>1565</td>\n",
       "    </tr>\n",
       "    <tr>\n",
       "      <th>7</th>\n",
       "      <td>8</td>\n",
       "      <td>8</td>\n",
       "      <td>Helsingborg</td>\n",
       "      <td>149280</td>\n",
       "      <td>147734</td>\n",
       "      <td>1546</td>\n",
       "    </tr>\n",
       "    <tr>\n",
       "      <th>6</th>\n",
       "      <td>7</td>\n",
       "      <td>7</td>\n",
       "      <td>Västerås</td>\n",
       "      <td>155551</td>\n",
       "      <td>154049</td>\n",
       "      <td>1502</td>\n",
       "    </tr>\n",
       "    <tr>\n",
       "      <th>0</th>\n",
       "      <td>1</td>\n",
       "      <td>1</td>\n",
       "      <td>Stockholm</td>\n",
       "      <td>975551</td>\n",
       "      <td>974073</td>\n",
       "      <td>1478</td>\n",
       "    </tr>\n",
       "    <tr>\n",
       "      <th>9</th>\n",
       "      <td>10</td>\n",
       "      <td>10</td>\n",
       "      <td>Jönköping</td>\n",
       "      <td>142427</td>\n",
       "      <td>141081</td>\n",
       "      <td>1346</td>\n",
       "    </tr>\n",
       "    <tr>\n",
       "      <th>10</th>\n",
       "      <td>11</td>\n",
       "      <td>11</td>\n",
       "      <td>Umeå</td>\n",
       "      <td>130224</td>\n",
       "      <td>128901</td>\n",
       "      <td>1323</td>\n",
       "    </tr>\n",
       "    <tr>\n",
       "      <th>15</th>\n",
       "      <td>16</td>\n",
       "      <td>16</td>\n",
       "      <td>Nacka</td>\n",
       "      <td>106505</td>\n",
       "      <td>105189</td>\n",
       "      <td>1316</td>\n",
       "    </tr>\n",
       "    <tr>\n",
       "      <th>27</th>\n",
       "      <td>28</td>\n",
       "      <td>28</td>\n",
       "      <td>Järfälla</td>\n",
       "      <td>81274</td>\n",
       "      <td>79990</td>\n",
       "      <td>1284</td>\n",
       "    </tr>\n",
       "    <tr>\n",
       "      <th>18</th>\n",
       "      <td>19</td>\n",
       "      <td>20</td>\n",
       "      <td>Södertälje</td>\n",
       "      <td>100111</td>\n",
       "      <td>98979</td>\n",
       "      <td>1132</td>\n",
       "    </tr>\n",
       "    <tr>\n",
       "      <th>37</th>\n",
       "      <td>38</td>\n",
       "      <td>38</td>\n",
       "      <td>Norrtälje</td>\n",
       "      <td>63673</td>\n",
       "      <td>62622</td>\n",
       "      <td>1051</td>\n",
       "    </tr>\n",
       "    <tr>\n",
       "      <th>11</th>\n",
       "      <td>12</td>\n",
       "      <td>12</td>\n",
       "      <td>Lund</td>\n",
       "      <td>125941</td>\n",
       "      <td>124935</td>\n",
       "      <td>1006</td>\n",
       "    </tr>\n",
       "    <tr>\n",
       "      <th>16</th>\n",
       "      <td>17</td>\n",
       "      <td>17</td>\n",
       "      <td>Halmstad</td>\n",
       "      <td>103754</td>\n",
       "      <td>102767</td>\n",
       "      <td>987</td>\n",
       "    </tr>\n",
       "    <tr>\n",
       "      <th>22</th>\n",
       "      <td>23</td>\n",
       "      <td>23</td>\n",
       "      <td>Karlstad</td>\n",
       "      <td>94828</td>\n",
       "      <td>93898</td>\n",
       "      <td>930</td>\n",
       "    </tr>\n",
       "    <tr>\n",
       "      <th>31</th>\n",
       "      <td>32</td>\n",
       "      <td>32</td>\n",
       "      <td>Täby</td>\n",
       "      <td>72755</td>\n",
       "      <td>71874</td>\n",
       "      <td>881</td>\n",
       "    </tr>\n",
       "    <tr>\n",
       "      <th>32</th>\n",
       "      <td>33</td>\n",
       "      <td>33</td>\n",
       "      <td>Kalmar</td>\n",
       "      <td>70329</td>\n",
       "      <td>69467</td>\n",
       "      <td>862</td>\n",
       "    </tr>\n",
       "    <tr>\n",
       "      <th>35</th>\n",
       "      <td>36</td>\n",
       "      <td>36</td>\n",
       "      <td>Varberg</td>\n",
       "      <td>65397</td>\n",
       "      <td>64601</td>\n",
       "      <td>796</td>\n",
       "    </tr>\n",
       "    <tr>\n",
       "      <th>26</th>\n",
       "      <td>27</td>\n",
       "      <td>27</td>\n",
       "      <td>Solna</td>\n",
       "      <td>83162</td>\n",
       "      <td>82429</td>\n",
       "      <td>733</td>\n",
       "    </tr>\n",
       "    <tr>\n",
       "      <th>20</th>\n",
       "      <td>21</td>\n",
       "      <td>22</td>\n",
       "      <td>Växjö</td>\n",
       "      <td>94859</td>\n",
       "      <td>94129</td>\n",
       "      <td>730</td>\n",
       "    </tr>\n",
       "    <tr>\n",
       "      <th>5</th>\n",
       "      <td>6</td>\n",
       "      <td>6</td>\n",
       "      <td>Örebro</td>\n",
       "      <td>156381</td>\n",
       "      <td>155696</td>\n",
       "      <td>685</td>\n",
       "    </tr>\n",
       "    <tr>\n",
       "      <th>48</th>\n",
       "      <td>49</td>\n",
       "      <td>49</td>\n",
       "      <td>Sigtuna</td>\n",
       "      <td>49537</td>\n",
       "      <td>48964</td>\n",
       "      <td>573</td>\n",
       "    </tr>\n",
       "    <tr>\n",
       "      <th>33</th>\n",
       "      <td>34</td>\n",
       "      <td>34</td>\n",
       "      <td>Mölndal</td>\n",
       "      <td>69901</td>\n",
       "      <td>69364</td>\n",
       "      <td>537</td>\n",
       "    </tr>\n",
       "    <tr>\n",
       "      <th>12</th>\n",
       "      <td>13</td>\n",
       "      <td>13</td>\n",
       "      <td>Borås</td>\n",
       "      <td>113714</td>\n",
       "      <td>113179</td>\n",
       "      <td>535</td>\n",
       "    </tr>\n",
       "    <tr>\n",
       "      <th>25</th>\n",
       "      <td>26</td>\n",
       "      <td>26</td>\n",
       "      <td>Kungsbacka</td>\n",
       "      <td>84930</td>\n",
       "      <td>84395</td>\n",
       "      <td>535</td>\n",
       "    </tr>\n",
       "    <tr>\n",
       "      <th>17</th>\n",
       "      <td>18</td>\n",
       "      <td>18</td>\n",
       "      <td>Gävle</td>\n",
       "      <td>102904</td>\n",
       "      <td>102418</td>\n",
       "      <td>486</td>\n",
       "    </tr>\n",
       "    <tr>\n",
       "      <th>41</th>\n",
       "      <td>42</td>\n",
       "      <td>43</td>\n",
       "      <td>Nyköping</td>\n",
       "      <td>57071</td>\n",
       "      <td>56591</td>\n",
       "      <td>480</td>\n",
       "    </tr>\n",
       "    <tr>\n",
       "      <th>24</th>\n",
       "      <td>25</td>\n",
       "      <td>25</td>\n",
       "      <td>Kristianstad</td>\n",
       "      <td>86217</td>\n",
       "      <td>85747</td>\n",
       "      <td>470</td>\n",
       "    </tr>\n",
       "    <tr>\n",
       "      <th>28</th>\n",
       "      <td>29</td>\n",
       "      <td>29</td>\n",
       "      <td>Luleå</td>\n",
       "      <td>78549</td>\n",
       "      <td>78105</td>\n",
       "      <td>444</td>\n",
       "    </tr>\n",
       "    <tr>\n",
       "      <th>38</th>\n",
       "      <td>39</td>\n",
       "      <td>39</td>\n",
       "      <td>Gotland</td>\n",
       "      <td>60124</td>\n",
       "      <td>59686</td>\n",
       "      <td>438</td>\n",
       "    </tr>\n",
       "    <tr>\n",
       "      <th>42</th>\n",
       "      <td>43</td>\n",
       "      <td>44</td>\n",
       "      <td>Skövde</td>\n",
       "      <td>56791</td>\n",
       "      <td>56366</td>\n",
       "      <td>425</td>\n",
       "    </tr>\n",
       "    <tr>\n",
       "      <th>45</th>\n",
       "      <td>46</td>\n",
       "      <td>47</td>\n",
       "      <td>Sundbyberg</td>\n",
       "      <td>52801</td>\n",
       "      <td>52414</td>\n",
       "      <td>387</td>\n",
       "    </tr>\n",
       "    <tr>\n",
       "      <th>13</th>\n",
       "      <td>14</td>\n",
       "      <td>14</td>\n",
       "      <td>Huddinge</td>\n",
       "      <td>113234</td>\n",
       "      <td>112848</td>\n",
       "      <td>386</td>\n",
       "    </tr>\n",
       "    <tr>\n",
       "      <th>49</th>\n",
       "      <td>50</td>\n",
       "      <td>50</td>\n",
       "      <td>Tyresö</td>\n",
       "      <td>48678</td>\n",
       "      <td>48333</td>\n",
       "      <td>345</td>\n",
       "    </tr>\n",
       "    <tr>\n",
       "      <th>8</th>\n",
       "      <td>9</td>\n",
       "      <td>9</td>\n",
       "      <td>Norrköping</td>\n",
       "      <td>143478</td>\n",
       "      <td>143171</td>\n",
       "      <td>307</td>\n",
       "    </tr>\n",
       "    <tr>\n",
       "      <th>30</th>\n",
       "      <td>31</td>\n",
       "      <td>31</td>\n",
       "      <td>Skellefteå</td>\n",
       "      <td>72840</td>\n",
       "      <td>72589</td>\n",
       "      <td>251</td>\n",
       "    </tr>\n",
       "    <tr>\n",
       "      <th>21</th>\n",
       "      <td>22</td>\n",
       "      <td>21</td>\n",
       "      <td>Botkyrka</td>\n",
       "      <td>94847</td>\n",
       "      <td>94606</td>\n",
       "      <td>241</td>\n",
       "    </tr>\n",
       "    <tr>\n",
       "      <th>36</th>\n",
       "      <td>37</td>\n",
       "      <td>37</td>\n",
       "      <td>Östersund</td>\n",
       "      <td>63985</td>\n",
       "      <td>63779</td>\n",
       "      <td>206</td>\n",
       "    </tr>\n",
       "    <tr>\n",
       "      <th>40</th>\n",
       "      <td>41</td>\n",
       "      <td>41</td>\n",
       "      <td>Trollhättan</td>\n",
       "      <td>59249</td>\n",
       "      <td>59058</td>\n",
       "      <td>191</td>\n",
       "    </tr>\n",
       "    <tr>\n",
       "      <th>29</th>\n",
       "      <td>30</td>\n",
       "      <td>30</td>\n",
       "      <td>Sollentuna</td>\n",
       "      <td>73990</td>\n",
       "      <td>73857</td>\n",
       "      <td>133</td>\n",
       "    </tr>\n",
       "    <tr>\n",
       "      <th>39</th>\n",
       "      <td>40</td>\n",
       "      <td>40</td>\n",
       "      <td>Falun</td>\n",
       "      <td>59528</td>\n",
       "      <td>59406</td>\n",
       "      <td>122</td>\n",
       "    </tr>\n",
       "    <tr>\n",
       "      <th>14</th>\n",
       "      <td>15</td>\n",
       "      <td>15</td>\n",
       "      <td>Eskilstuna</td>\n",
       "      <td>106975</td>\n",
       "      <td>106859</td>\n",
       "      <td>116</td>\n",
       "    </tr>\n",
       "    <tr>\n",
       "      <th>43</th>\n",
       "      <td>44</td>\n",
       "      <td>42</td>\n",
       "      <td>Uddevalla</td>\n",
       "      <td>56787</td>\n",
       "      <td>56703</td>\n",
       "      <td>84</td>\n",
       "    </tr>\n",
       "    <tr>\n",
       "      <th>19</th>\n",
       "      <td>20</td>\n",
       "      <td>19</td>\n",
       "      <td>Sundsvall</td>\n",
       "      <td>99439</td>\n",
       "      <td>99449</td>\n",
       "      <td>-10</td>\n",
       "    </tr>\n",
       "    <tr>\n",
       "      <th>34</th>\n",
       "      <td>35</td>\n",
       "      <td>35</td>\n",
       "      <td>Karlskrona</td>\n",
       "      <td>66515</td>\n",
       "      <td>66622</td>\n",
       "      <td>-107</td>\n",
       "    </tr>\n",
       "    <tr>\n",
       "      <th>47</th>\n",
       "      <td>48</td>\n",
       "      <td>48</td>\n",
       "      <td>Hässleholm</td>\n",
       "      <td>52010</td>\n",
       "      <td>52145</td>\n",
       "      <td>-135</td>\n",
       "    </tr>\n",
       "    <tr>\n",
       "      <th>44</th>\n",
       "      <td>45</td>\n",
       "      <td>45</td>\n",
       "      <td>Örnsköldsvik</td>\n",
       "      <td>55807</td>\n",
       "      <td>55998</td>\n",
       "      <td>-191</td>\n",
       "    </tr>\n",
       "    <tr>\n",
       "      <th>46</th>\n",
       "      <td>47</td>\n",
       "      <td>46</td>\n",
       "      <td>Borlänge</td>\n",
       "      <td>52394</td>\n",
       "      <td>52590</td>\n",
       "      <td>-196</td>\n",
       "    </tr>\n",
       "  </tbody>\n",
       "</table>\n",
       "</div>"
      ],
      "text/plain": [
       "    2020  2019        Kommun  Folkmängd 31 dec 2020  2019.1  Diff\n",
       "2      3     3         Malmö                 347949  344166  3783\n",
       "1      2     2      Göteborg                 583056  579281  3775\n",
       "3      4     4       Uppsala                 233839  230767  3072\n",
       "23    24    24       Haninge                  93690   92095  1595\n",
       "4      5     5     Linköping                 164616  163051  1565\n",
       "7      8     8   Helsingborg                 149280  147734  1546\n",
       "6      7     7      Västerås                 155551  154049  1502\n",
       "0      1     1     Stockholm                 975551  974073  1478\n",
       "9     10    10     Jönköping                 142427  141081  1346\n",
       "10    11    11          Umeå                 130224  128901  1323\n",
       "15    16    16         Nacka                 106505  105189  1316\n",
       "27    28    28      Järfälla                  81274   79990  1284\n",
       "18    19    20    Södertälje                 100111   98979  1132\n",
       "37    38    38     Norrtälje                  63673   62622  1051\n",
       "11    12    12          Lund                 125941  124935  1006\n",
       "16    17    17      Halmstad                 103754  102767   987\n",
       "22    23    23      Karlstad                  94828   93898   930\n",
       "31    32    32          Täby                  72755   71874   881\n",
       "32    33    33        Kalmar                  70329   69467   862\n",
       "35    36    36       Varberg                  65397   64601   796\n",
       "26    27    27         Solna                  83162   82429   733\n",
       "20    21    22         Växjö                  94859   94129   730\n",
       "5      6     6        Örebro                 156381  155696   685\n",
       "48    49    49       Sigtuna                  49537   48964   573\n",
       "33    34    34       Mölndal                  69901   69364   537\n",
       "12    13    13         Borås                 113714  113179   535\n",
       "25    26    26    Kungsbacka                  84930   84395   535\n",
       "17    18    18         Gävle                 102904  102418   486\n",
       "41    42    43      Nyköping                  57071   56591   480\n",
       "24    25    25  Kristianstad                  86217   85747   470\n",
       "28    29    29         Luleå                  78549   78105   444\n",
       "38    39    39       Gotland                  60124   59686   438\n",
       "42    43    44        Skövde                  56791   56366   425\n",
       "45    46    47    Sundbyberg                  52801   52414   387\n",
       "13    14    14      Huddinge                 113234  112848   386\n",
       "49    50    50        Tyresö                  48678   48333   345\n",
       "8      9     9    Norrköping                 143478  143171   307\n",
       "30    31    31    Skellefteå                  72840   72589   251\n",
       "21    22    21      Botkyrka                  94847   94606   241\n",
       "36    37    37     Östersund                  63985   63779   206\n",
       "40    41    41   Trollhättan                  59249   59058   191\n",
       "29    30    30    Sollentuna                  73990   73857   133\n",
       "39    40    40         Falun                  59528   59406   122\n",
       "14    15    15    Eskilstuna                 106975  106859   116\n",
       "43    44    42     Uddevalla                  56787   56703    84\n",
       "19    20    19     Sundsvall                  99439   99449   -10\n",
       "34    35    35    Karlskrona                  66515   66622  -107\n",
       "47    48    48    Hässleholm                  52010   52145  -135\n",
       "44    45    45  Örnsköldsvik                  55807   55998  -191\n",
       "46    47    46      Borlänge                  52394   52590  -196"
      ]
     },
     "execution_count": 31,
     "metadata": {},
     "output_type": "execute_result"
    }
   ],
   "source": [
    "population_df = pd.read_excel('../../data/komtopp50_2020.xlsx', header=6)\n",
    "\n",
    "population_df.rename(columns={'Unnamed: 2': 'Kommun', \n",
    "                              '2020.1': 'Folkmängd 31 dec 2020', \n",
    "                              'Unnamed: 5': 'Diff'}, inplace=True)  # fortsätt ändra\n",
    "\n",
    "population_df.sort_values(by='Diff', ascending=False)"
   ]
  },
  {
   "cell_type": "code",
   "execution_count": null,
   "metadata": {},
   "outputs": [],
   "source": [
    "population_df['Diff'].sum()"
   ]
  },
  {
   "cell_type": "code",
   "execution_count": 32,
   "metadata": {},
   "outputs": [
    {
     "data": {
      "text/html": [
       "<div>\n",
       "<style scoped>\n",
       "    .dataframe tbody tr th:only-of-type {\n",
       "        vertical-align: middle;\n",
       "    }\n",
       "\n",
       "    .dataframe tbody tr th {\n",
       "        vertical-align: top;\n",
       "    }\n",
       "\n",
       "    .dataframe thead th {\n",
       "        text-align: right;\n",
       "    }\n",
       "</style>\n",
       "<table border=\"1\" class=\"dataframe\">\n",
       "  <thead>\n",
       "    <tr style=\"text-align: right;\">\n",
       "      <th></th>\n",
       "      <th>2020</th>\n",
       "      <th>2019</th>\n",
       "      <th>Unnamed: 2</th>\n",
       "      <th>2020.1</th>\n",
       "      <th>2019.1</th>\n",
       "      <th>%</th>\n",
       "    </tr>\n",
       "  </thead>\n",
       "  <tbody>\n",
       "    <tr>\n",
       "      <th>0</th>\n",
       "      <td>83</td>\n",
       "      <td>84</td>\n",
       "      <td>Ale</td>\n",
       "      <td>31868</td>\n",
       "      <td>31402</td>\n",
       "      <td>1.483982</td>\n",
       "    </tr>\n",
       "    <tr>\n",
       "      <th>1</th>\n",
       "      <td>64</td>\n",
       "      <td>64</td>\n",
       "      <td>Alingsås</td>\n",
       "      <td>41602</td>\n",
       "      <td>41420</td>\n",
       "      <td>0.439401</td>\n",
       "    </tr>\n",
       "    <tr>\n",
       "      <th>2</th>\n",
       "      <td>123</td>\n",
       "      <td>123</td>\n",
       "      <td>Alvesta</td>\n",
       "      <td>20224</td>\n",
       "      <td>20134</td>\n",
       "      <td>0.447005</td>\n",
       "    </tr>\n",
       "    <tr>\n",
       "      <th>3</th>\n",
       "      <td>255</td>\n",
       "      <td>255</td>\n",
       "      <td>Aneby</td>\n",
       "      <td>6821</td>\n",
       "      <td>6848</td>\n",
       "      <td>-0.394276</td>\n",
       "    </tr>\n",
       "    <tr>\n",
       "      <th>4</th>\n",
       "      <td>169</td>\n",
       "      <td>167</td>\n",
       "      <td>Arboga</td>\n",
       "      <td>14039</td>\n",
       "      <td>14087</td>\n",
       "      <td>-0.340740</td>\n",
       "    </tr>\n",
       "    <tr>\n",
       "      <th>...</th>\n",
       "      <td>...</td>\n",
       "      <td>...</td>\n",
       "      <td>...</td>\n",
       "      <td>...</td>\n",
       "      <td>...</td>\n",
       "      <td>...</td>\n",
       "    </tr>\n",
       "    <tr>\n",
       "      <th>285</th>\n",
       "      <td>54</td>\n",
       "      <td>55</td>\n",
       "      <td>Österåker</td>\n",
       "      <td>46644</td>\n",
       "      <td>45574</td>\n",
       "      <td>2.347830</td>\n",
       "    </tr>\n",
       "    <tr>\n",
       "      <th>286</th>\n",
       "      <td>116</td>\n",
       "      <td>115</td>\n",
       "      <td>Östhammar</td>\n",
       "      <td>22251</td>\n",
       "      <td>22250</td>\n",
       "      <td>0.004494</td>\n",
       "    </tr>\n",
       "    <tr>\n",
       "      <th>287</th>\n",
       "      <td>160</td>\n",
       "      <td>159</td>\n",
       "      <td>Östra Göinge</td>\n",
       "      <td>15017</td>\n",
       "      <td>15007</td>\n",
       "      <td>0.066636</td>\n",
       "    </tr>\n",
       "    <tr>\n",
       "      <th>288</th>\n",
       "      <td>284</td>\n",
       "      <td>284</td>\n",
       "      <td>Överkalix</td>\n",
       "      <td>3289</td>\n",
       "      <td>3315</td>\n",
       "      <td>-0.784314</td>\n",
       "    </tr>\n",
       "    <tr>\n",
       "      <th>289</th>\n",
       "      <td>279</td>\n",
       "      <td>279</td>\n",
       "      <td>Övertorneå</td>\n",
       "      <td>4217</td>\n",
       "      <td>4299</td>\n",
       "      <td>-1.907420</td>\n",
       "    </tr>\n",
       "  </tbody>\n",
       "</table>\n",
       "<p>290 rows × 6 columns</p>\n",
       "</div>"
      ],
      "text/plain": [
       "     2020  2019    Unnamed: 2  2020.1  2019.1         %\n",
       "0      83    84           Ale   31868   31402  1.483982\n",
       "1      64    64      Alingsås   41602   41420  0.439401\n",
       "2     123   123       Alvesta   20224   20134  0.447005\n",
       "3     255   255         Aneby    6821    6848 -0.394276\n",
       "4     169   167        Arboga   14039   14087 -0.340740\n",
       "..    ...   ...           ...     ...     ...       ...\n",
       "285    54    55     Österåker   46644   45574  2.347830\n",
       "286   116   115     Östhammar   22251   22250  0.004494\n",
       "287   160   159  Östra Göinge   15017   15007  0.066636\n",
       "288   284   284     Överkalix    3289    3315 -0.784314\n",
       "289   279   279    Övertorneå    4217    4299 -1.907420\n",
       "\n",
       "[290 rows x 6 columns]"
      ]
     },
     "execution_count": 32,
     "metadata": {},
     "output_type": "execute_result"
    }
   ],
   "source": [
    "pd.read_excel('../../data/komtopp50_2020.xlsx', header=6, sheet_name='Totalt')"
   ]
  },
  {
   "cell_type": "markdown",
   "metadata": {},
   "source": [
    "---"
   ]
  },
  {
   "cell_type": "markdown",
   "metadata": {},
   "source": [
    "## Assigning and re-assigning columns in a DataFrame"
   ]
  },
  {
   "cell_type": "code",
   "execution_count": 20,
   "metadata": {},
   "outputs": [
    {
     "data": {
      "text/html": [
       "<div>\n",
       "<style scoped>\n",
       "    .dataframe tbody tr th:only-of-type {\n",
       "        vertical-align: middle;\n",
       "    }\n",
       "\n",
       "    .dataframe tbody tr th {\n",
       "        vertical-align: top;\n",
       "    }\n",
       "\n",
       "    .dataframe thead th {\n",
       "        text-align: right;\n",
       "    }\n",
       "</style>\n",
       "<table border=\"1\" class=\"dataframe\">\n",
       "  <thead>\n",
       "    <tr style=\"text-align: right;\">\n",
       "      <th></th>\n",
       "      <th>name</th>\n",
       "      <th>age</th>\n",
       "      <th>eye color</th>\n",
       "    </tr>\n",
       "  </thead>\n",
       "  <tbody>\n",
       "    <tr>\n",
       "      <th>0</th>\n",
       "      <td>Amir</td>\n",
       "      <td>2.5</td>\n",
       "      <td>blue</td>\n",
       "    </tr>\n",
       "    <tr>\n",
       "      <th>1</th>\n",
       "      <td>Sawash</td>\n",
       "      <td>5.0</td>\n",
       "      <td>brown</td>\n",
       "    </tr>\n",
       "    <tr>\n",
       "      <th>2</th>\n",
       "      <td>Rozann</td>\n",
       "      <td>31.0</td>\n",
       "      <td>green</td>\n",
       "    </tr>\n",
       "    <tr>\n",
       "      <th>3</th>\n",
       "      <td>Ali</td>\n",
       "      <td>35.0</td>\n",
       "      <td>brown</td>\n",
       "    </tr>\n",
       "  </tbody>\n",
       "</table>\n",
       "</div>"
      ],
      "text/plain": [
       "     name   age eye color\n",
       "0    Amir   2.5      blue\n",
       "1  Sawash   5.0     brown\n",
       "2  Rozann  31.0     green\n",
       "3     Ali  35.0     brown"
      ]
     },
     "execution_count": 20,
     "metadata": {},
     "output_type": "execute_result"
    }
   ],
   "source": [
    "family_df"
   ]
  },
  {
   "cell_type": "code",
   "execution_count": 21,
   "metadata": {},
   "outputs": [
    {
     "data": {
      "text/html": [
       "<div>\n",
       "<style scoped>\n",
       "    .dataframe tbody tr th:only-of-type {\n",
       "        vertical-align: middle;\n",
       "    }\n",
       "\n",
       "    .dataframe tbody tr th {\n",
       "        vertical-align: top;\n",
       "    }\n",
       "\n",
       "    .dataframe thead th {\n",
       "        text-align: right;\n",
       "    }\n",
       "</style>\n",
       "<table border=\"1\" class=\"dataframe\">\n",
       "  <thead>\n",
       "    <tr style=\"text-align: right;\">\n",
       "      <th></th>\n",
       "      <th>name</th>\n",
       "      <th>age</th>\n",
       "      <th>eye color</th>\n",
       "      <th>gender</th>\n",
       "    </tr>\n",
       "  </thead>\n",
       "  <tbody>\n",
       "    <tr>\n",
       "      <th>0</th>\n",
       "      <td>Amir</td>\n",
       "      <td>2.5</td>\n",
       "      <td>blue</td>\n",
       "      <td>male</td>\n",
       "    </tr>\n",
       "    <tr>\n",
       "      <th>1</th>\n",
       "      <td>Sawash</td>\n",
       "      <td>5.0</td>\n",
       "      <td>brown</td>\n",
       "      <td>male</td>\n",
       "    </tr>\n",
       "    <tr>\n",
       "      <th>2</th>\n",
       "      <td>Rozann</td>\n",
       "      <td>31.0</td>\n",
       "      <td>green</td>\n",
       "      <td>female</td>\n",
       "    </tr>\n",
       "    <tr>\n",
       "      <th>3</th>\n",
       "      <td>Ali</td>\n",
       "      <td>35.0</td>\n",
       "      <td>brown</td>\n",
       "      <td>male</td>\n",
       "    </tr>\n",
       "  </tbody>\n",
       "</table>\n",
       "</div>"
      ],
      "text/plain": [
       "     name   age eye color  gender\n",
       "0    Amir   2.5      blue    male\n",
       "1  Sawash   5.0     brown    male\n",
       "2  Rozann  31.0     green  female\n",
       "3     Ali  35.0     brown    male"
      ]
     },
     "execution_count": 21,
     "metadata": {},
     "output_type": "execute_result"
    }
   ],
   "source": [
    "family_df['gender'] = ['male', 'male', 'female', 'male']\n",
    "\n",
    "family_df"
   ]
  },
  {
   "cell_type": "code",
   "execution_count": 22,
   "metadata": {},
   "outputs": [
    {
     "data": {
      "text/html": [
       "<div>\n",
       "<style scoped>\n",
       "    .dataframe tbody tr th:only-of-type {\n",
       "        vertical-align: middle;\n",
       "    }\n",
       "\n",
       "    .dataframe tbody tr th {\n",
       "        vertical-align: top;\n",
       "    }\n",
       "\n",
       "    .dataframe thead th {\n",
       "        text-align: right;\n",
       "    }\n",
       "</style>\n",
       "<table border=\"1\" class=\"dataframe\">\n",
       "  <thead>\n",
       "    <tr style=\"text-align: right;\">\n",
       "      <th></th>\n",
       "      <th>name</th>\n",
       "      <th>age</th>\n",
       "      <th>eye color</th>\n",
       "      <th>gender</th>\n",
       "      <th>cool</th>\n",
       "    </tr>\n",
       "  </thead>\n",
       "  <tbody>\n",
       "    <tr>\n",
       "      <th>0</th>\n",
       "      <td>Amir</td>\n",
       "      <td>2.5</td>\n",
       "      <td>blue</td>\n",
       "      <td>male</td>\n",
       "      <td>Helz yeah</td>\n",
       "    </tr>\n",
       "    <tr>\n",
       "      <th>1</th>\n",
       "      <td>Sawash</td>\n",
       "      <td>5.0</td>\n",
       "      <td>brown</td>\n",
       "      <td>male</td>\n",
       "      <td>Helz yeah</td>\n",
       "    </tr>\n",
       "    <tr>\n",
       "      <th>2</th>\n",
       "      <td>Rozann</td>\n",
       "      <td>31.0</td>\n",
       "      <td>green</td>\n",
       "      <td>female</td>\n",
       "      <td>Helz yeah</td>\n",
       "    </tr>\n",
       "    <tr>\n",
       "      <th>3</th>\n",
       "      <td>Ali</td>\n",
       "      <td>35.0</td>\n",
       "      <td>brown</td>\n",
       "      <td>male</td>\n",
       "      <td>Helz yeah</td>\n",
       "    </tr>\n",
       "  </tbody>\n",
       "</table>\n",
       "</div>"
      ],
      "text/plain": [
       "     name   age eye color  gender       cool\n",
       "0    Amir   2.5      blue    male  Helz yeah\n",
       "1  Sawash   5.0     brown    male  Helz yeah\n",
       "2  Rozann  31.0     green  female  Helz yeah\n",
       "3     Ali  35.0     brown    male  Helz yeah"
      ]
     },
     "execution_count": 22,
     "metadata": {},
     "output_type": "execute_result"
    }
   ],
   "source": [
    "family_df['cool'] = 'Helz yeah'\n",
    "\n",
    "family_df"
   ]
  },
  {
   "cell_type": "code",
   "execution_count": 23,
   "metadata": {},
   "outputs": [
    {
     "data": {
      "text/html": [
       "<div>\n",
       "<style scoped>\n",
       "    .dataframe tbody tr th:only-of-type {\n",
       "        vertical-align: middle;\n",
       "    }\n",
       "\n",
       "    .dataframe tbody tr th {\n",
       "        vertical-align: top;\n",
       "    }\n",
       "\n",
       "    .dataframe thead th {\n",
       "        text-align: right;\n",
       "    }\n",
       "</style>\n",
       "<table border=\"1\" class=\"dataframe\">\n",
       "  <thead>\n",
       "    <tr style=\"text-align: right;\">\n",
       "      <th></th>\n",
       "      <th>name</th>\n",
       "      <th>age</th>\n",
       "      <th>eye color</th>\n",
       "      <th>gender</th>\n",
       "      <th>cool</th>\n",
       "    </tr>\n",
       "  </thead>\n",
       "  <tbody>\n",
       "    <tr>\n",
       "      <th>0</th>\n",
       "      <td>Amir</td>\n",
       "      <td>3.5</td>\n",
       "      <td>blue</td>\n",
       "      <td>male</td>\n",
       "      <td>Helz yeah</td>\n",
       "    </tr>\n",
       "    <tr>\n",
       "      <th>1</th>\n",
       "      <td>Sawash</td>\n",
       "      <td>6.0</td>\n",
       "      <td>brown</td>\n",
       "      <td>male</td>\n",
       "      <td>Helz yeah</td>\n",
       "    </tr>\n",
       "    <tr>\n",
       "      <th>2</th>\n",
       "      <td>Rozann</td>\n",
       "      <td>32.0</td>\n",
       "      <td>green</td>\n",
       "      <td>female</td>\n",
       "      <td>Helz yeah</td>\n",
       "    </tr>\n",
       "    <tr>\n",
       "      <th>3</th>\n",
       "      <td>Ali</td>\n",
       "      <td>36.0</td>\n",
       "      <td>brown</td>\n",
       "      <td>male</td>\n",
       "      <td>Helz yeah</td>\n",
       "    </tr>\n",
       "  </tbody>\n",
       "</table>\n",
       "</div>"
      ],
      "text/plain": [
       "     name   age eye color  gender       cool\n",
       "0    Amir   3.5      blue    male  Helz yeah\n",
       "1  Sawash   6.0     brown    male  Helz yeah\n",
       "2  Rozann  32.0     green  female  Helz yeah\n",
       "3     Ali  36.0     brown    male  Helz yeah"
      ]
     },
     "execution_count": 23,
     "metadata": {},
     "output_type": "execute_result"
    }
   ],
   "source": [
    "family_df['age'] = family_df['age'] + 1\n",
    "\n",
    "family_df"
   ]
  },
  {
   "cell_type": "code",
   "execution_count": 24,
   "metadata": {},
   "outputs": [
    {
     "data": {
      "text/html": [
       "<div>\n",
       "<style scoped>\n",
       "    .dataframe tbody tr th:only-of-type {\n",
       "        vertical-align: middle;\n",
       "    }\n",
       "\n",
       "    .dataframe tbody tr th {\n",
       "        vertical-align: top;\n",
       "    }\n",
       "\n",
       "    .dataframe thead th {\n",
       "        text-align: right;\n",
       "    }\n",
       "</style>\n",
       "<table border=\"1\" class=\"dataframe\">\n",
       "  <thead>\n",
       "    <tr style=\"text-align: right;\">\n",
       "      <th></th>\n",
       "      <th>name</th>\n",
       "      <th>age</th>\n",
       "      <th>eye color</th>\n",
       "      <th>gender</th>\n",
       "      <th>cool</th>\n",
       "    </tr>\n",
       "  </thead>\n",
       "  <tbody>\n",
       "    <tr>\n",
       "      <th>0</th>\n",
       "      <td>Amir</td>\n",
       "      <td>1.75</td>\n",
       "      <td>blue</td>\n",
       "      <td>male</td>\n",
       "      <td>Helz yeah</td>\n",
       "    </tr>\n",
       "    <tr>\n",
       "      <th>1</th>\n",
       "      <td>Sawash</td>\n",
       "      <td>3.00</td>\n",
       "      <td>brown</td>\n",
       "      <td>male</td>\n",
       "      <td>Helz yeah</td>\n",
       "    </tr>\n",
       "    <tr>\n",
       "      <th>2</th>\n",
       "      <td>Rozann</td>\n",
       "      <td>16.00</td>\n",
       "      <td>green</td>\n",
       "      <td>female</td>\n",
       "      <td>Helz yeah</td>\n",
       "    </tr>\n",
       "    <tr>\n",
       "      <th>3</th>\n",
       "      <td>Ali</td>\n",
       "      <td>18.00</td>\n",
       "      <td>brown</td>\n",
       "      <td>male</td>\n",
       "      <td>Helz yeah</td>\n",
       "    </tr>\n",
       "  </tbody>\n",
       "</table>\n",
       "</div>"
      ],
      "text/plain": [
       "     name    age eye color  gender       cool\n",
       "0    Amir   1.75      blue    male  Helz yeah\n",
       "1  Sawash   3.00     brown    male  Helz yeah\n",
       "2  Rozann  16.00     green  female  Helz yeah\n",
       "3     Ali  18.00     brown    male  Helz yeah"
      ]
     },
     "execution_count": 24,
     "metadata": {},
     "output_type": "execute_result"
    }
   ],
   "source": [
    "family_df['age'] = family_df['age']/2\n",
    "\n",
    "family_df"
   ]
  },
  {
   "cell_type": "markdown",
   "metadata": {},
   "source": [
    "---"
   ]
  },
  {
   "cell_type": "markdown",
   "metadata": {},
   "source": [
    "### Concatenate two DataFrames"
   ]
  },
  {
   "cell_type": "code",
   "execution_count": 25,
   "metadata": {},
   "outputs": [
    {
     "data": {
      "text/html": [
       "<div>\n",
       "<style scoped>\n",
       "    .dataframe tbody tr th:only-of-type {\n",
       "        vertical-align: middle;\n",
       "    }\n",
       "\n",
       "    .dataframe tbody tr th {\n",
       "        vertical-align: top;\n",
       "    }\n",
       "\n",
       "    .dataframe thead th {\n",
       "        text-align: right;\n",
       "    }\n",
       "</style>\n",
       "<table border=\"1\" class=\"dataframe\">\n",
       "  <thead>\n",
       "    <tr style=\"text-align: right;\">\n",
       "      <th></th>\n",
       "      <th>name</th>\n",
       "      <th>age</th>\n",
       "      <th>eye color</th>\n",
       "      <th>gender</th>\n",
       "    </tr>\n",
       "  </thead>\n",
       "  <tbody>\n",
       "    <tr>\n",
       "      <th>0</th>\n",
       "      <td>john</td>\n",
       "      <td>23</td>\n",
       "      <td>r</td>\n",
       "      <td>male</td>\n",
       "    </tr>\n",
       "    <tr>\n",
       "      <th>1</th>\n",
       "      <td>jane</td>\n",
       "      <td>24</td>\n",
       "      <td>g</td>\n",
       "      <td>female</td>\n",
       "    </tr>\n",
       "    <tr>\n",
       "      <th>2</th>\n",
       "      <td>jim</td>\n",
       "      <td>25</td>\n",
       "      <td>b</td>\n",
       "      <td>male</td>\n",
       "    </tr>\n",
       "  </tbody>\n",
       "</table>\n",
       "</div>"
      ],
      "text/plain": [
       "   name  age eye color  gender\n",
       "0  john   23         r    male\n",
       "1  jane   24         g  female\n",
       "2   jim   25         b    male"
      ]
     },
     "execution_count": 25,
     "metadata": {},
     "output_type": "execute_result"
    }
   ],
   "source": [
    "more_data = {'name': ['john', 'jane', 'jim'],\n",
    "             'age': [23, 24, 25], \n",
    "             'eye color': ['r', 'g', 'b'], \n",
    "             'gender' : ['male', 'female', 'male']}\n",
    "\n",
    "strangers_df = pd.DataFrame(more_data)\n",
    "\n",
    "strangers_df"
   ]
  },
  {
   "cell_type": "code",
   "execution_count": 27,
   "metadata": {},
   "outputs": [
    {
     "data": {
      "text/html": [
       "<div>\n",
       "<style scoped>\n",
       "    .dataframe tbody tr th:only-of-type {\n",
       "        vertical-align: middle;\n",
       "    }\n",
       "\n",
       "    .dataframe tbody tr th {\n",
       "        vertical-align: top;\n",
       "    }\n",
       "\n",
       "    .dataframe thead th {\n",
       "        text-align: right;\n",
       "    }\n",
       "</style>\n",
       "<table border=\"1\" class=\"dataframe\">\n",
       "  <thead>\n",
       "    <tr style=\"text-align: right;\">\n",
       "      <th></th>\n",
       "      <th>name</th>\n",
       "      <th>age</th>\n",
       "      <th>eye color</th>\n",
       "      <th>gender</th>\n",
       "      <th>cool</th>\n",
       "    </tr>\n",
       "  </thead>\n",
       "  <tbody>\n",
       "    <tr>\n",
       "      <th>0</th>\n",
       "      <td>Amir</td>\n",
       "      <td>1.75</td>\n",
       "      <td>blue</td>\n",
       "      <td>male</td>\n",
       "      <td>Helz yeah</td>\n",
       "    </tr>\n",
       "    <tr>\n",
       "      <th>1</th>\n",
       "      <td>Sawash</td>\n",
       "      <td>3.00</td>\n",
       "      <td>brown</td>\n",
       "      <td>male</td>\n",
       "      <td>Helz yeah</td>\n",
       "    </tr>\n",
       "    <tr>\n",
       "      <th>2</th>\n",
       "      <td>Rozann</td>\n",
       "      <td>16.00</td>\n",
       "      <td>green</td>\n",
       "      <td>female</td>\n",
       "      <td>Helz yeah</td>\n",
       "    </tr>\n",
       "    <tr>\n",
       "      <th>3</th>\n",
       "      <td>Ali</td>\n",
       "      <td>18.00</td>\n",
       "      <td>brown</td>\n",
       "      <td>male</td>\n",
       "      <td>Helz yeah</td>\n",
       "    </tr>\n",
       "    <tr>\n",
       "      <th>0</th>\n",
       "      <td>john</td>\n",
       "      <td>23.00</td>\n",
       "      <td>r</td>\n",
       "      <td>male</td>\n",
       "      <td>NaN</td>\n",
       "    </tr>\n",
       "    <tr>\n",
       "      <th>1</th>\n",
       "      <td>jane</td>\n",
       "      <td>24.00</td>\n",
       "      <td>g</td>\n",
       "      <td>female</td>\n",
       "      <td>NaN</td>\n",
       "    </tr>\n",
       "    <tr>\n",
       "      <th>2</th>\n",
       "      <td>jim</td>\n",
       "      <td>25.00</td>\n",
       "      <td>b</td>\n",
       "      <td>male</td>\n",
       "      <td>NaN</td>\n",
       "    </tr>\n",
       "  </tbody>\n",
       "</table>\n",
       "</div>"
      ],
      "text/plain": [
       "     name    age eye color  gender       cool\n",
       "0    Amir   1.75      blue    male  Helz yeah\n",
       "1  Sawash   3.00     brown    male  Helz yeah\n",
       "2  Rozann  16.00     green  female  Helz yeah\n",
       "3     Ali  18.00     brown    male  Helz yeah\n",
       "0    john  23.00         r    male        NaN\n",
       "1    jane  24.00         g  female        NaN\n",
       "2     jim  25.00         b    male        NaN"
      ]
     },
     "execution_count": 27,
     "metadata": {},
     "output_type": "execute_result"
    }
   ],
   "source": [
    "pd.concat([family_df, strangers_df])"
   ]
  },
  {
   "cell_type": "markdown",
   "metadata": {},
   "source": [
    "---\n",
    "\n",
    "### Plot data with Matplotlib"
   ]
  },
  {
   "cell_type": "code",
   "execution_count": 33,
   "metadata": {},
   "outputs": [
    {
     "data": {
      "text/html": [
       "<div>\n",
       "<style scoped>\n",
       "    .dataframe tbody tr th:only-of-type {\n",
       "        vertical-align: middle;\n",
       "    }\n",
       "\n",
       "    .dataframe tbody tr th {\n",
       "        vertical-align: top;\n",
       "    }\n",
       "\n",
       "    .dataframe thead th {\n",
       "        text-align: right;\n",
       "    }\n",
       "</style>\n",
       "<table border=\"1\" class=\"dataframe\">\n",
       "  <thead>\n",
       "    <tr style=\"text-align: right;\">\n",
       "      <th></th>\n",
       "      <th>name</th>\n",
       "      <th>age</th>\n",
       "      <th>eye color</th>\n",
       "      <th>gender</th>\n",
       "      <th>cool</th>\n",
       "    </tr>\n",
       "  </thead>\n",
       "  <tbody>\n",
       "    <tr>\n",
       "      <th>0</th>\n",
       "      <td>Amir</td>\n",
       "      <td>1.75</td>\n",
       "      <td>blue</td>\n",
       "      <td>male</td>\n",
       "      <td>Helz yeah</td>\n",
       "    </tr>\n",
       "    <tr>\n",
       "      <th>1</th>\n",
       "      <td>Sawash</td>\n",
       "      <td>3.00</td>\n",
       "      <td>brown</td>\n",
       "      <td>male</td>\n",
       "      <td>Helz yeah</td>\n",
       "    </tr>\n",
       "    <tr>\n",
       "      <th>2</th>\n",
       "      <td>Rozann</td>\n",
       "      <td>16.00</td>\n",
       "      <td>green</td>\n",
       "      <td>female</td>\n",
       "      <td>Helz yeah</td>\n",
       "    </tr>\n",
       "    <tr>\n",
       "      <th>3</th>\n",
       "      <td>Ali</td>\n",
       "      <td>18.00</td>\n",
       "      <td>brown</td>\n",
       "      <td>male</td>\n",
       "      <td>Helz yeah</td>\n",
       "    </tr>\n",
       "  </tbody>\n",
       "</table>\n",
       "</div>"
      ],
      "text/plain": [
       "     name    age eye color  gender       cool\n",
       "0    Amir   1.75      blue    male  Helz yeah\n",
       "1  Sawash   3.00     brown    male  Helz yeah\n",
       "2  Rozann  16.00     green  female  Helz yeah\n",
       "3     Ali  18.00     brown    male  Helz yeah"
      ]
     },
     "execution_count": 33,
     "metadata": {},
     "output_type": "execute_result"
    }
   ],
   "source": [
    "family_df"
   ]
  },
  {
   "cell_type": "code",
   "execution_count": 38,
   "metadata": {},
   "outputs": [
    {
     "data": {
      "text/plain": [
       "<Axes: >"
      ]
     },
     "execution_count": 38,
     "metadata": {},
     "output_type": "execute_result"
    },
    {
     "data": {
      "image/png": "[encoded data removed]",
      "text/plain": [
       "<Figure size 640x480 with 1 Axes>"
      ]
     },
     "metadata": {},
     "output_type": "display_data"
    }
   ],
   "source": [
    "family_df['eye color'].hist()"
   ]
  },
  {
   "cell_type": "code",
   "execution_count": 45,
   "metadata": {},
   "outputs": [
    {
     "data": {
      "text/plain": [
       "eye color\n",
       "brown    2\n",
       "blue     1\n",
       "green    1\n",
       "Name: count, dtype: int64"
      ]
     },
     "execution_count": 45,
     "metadata": {},
     "output_type": "execute_result"
    }
   ],
   "source": [
    "family_df['eye color'].value_counts()"
   ]
  },
  {
   "cell_type": "code",
   "execution_count": 47,
   "metadata": {},
   "outputs": [
    {
     "name": "stdout",
     "output_type": "stream",
     "text": [
      "[2 1 1]\n",
      "['brown' 'blue' 'green']\n"
     ]
    }
   ],
   "source": [
    "counts = family_df['eye color'].value_counts().values\n",
    "labels = family_df['eye color'].value_counts().index.values\n",
    "\n",
    "print(counts)\n",
    "print(labels)\n"
   ]
  },
  {
   "cell_type": "code",
   "execution_count": 48,
   "metadata": {},
   "outputs": [
    {
     "data": {
      "image/png": "[encoded data removed]",
      "text/plain": [
       "<Figure size 640x480 with 1 Axes>"
      ]
     },
     "metadata": {},
     "output_type": "display_data"
    }
   ],
   "source": [
    "import matplotlib.pyplot as plt\n",
    "\n",
    "plt.bar(labels, counts)\n",
    "plt.show()"
   ]
  },
  {
   "cell_type": "markdown",
   "metadata": {},
   "source": [
    "---"
   ]
  },
  {
   "cell_type": "markdown",
   "metadata": {},
   "source": [
    "## Two Important Notes\n",
    "\n",
    "* It's *VERY* important that you put alot of time into beig mindful with not only what you visualise, but also HOW you visualise it.\n",
    "* Furthermore, I'm going to require you to read the documentation of the libraries that we use. Including Pandas, matplotlib, Seaborn etc.\n",
    "\n",
    "We will not have nearly enough time to cover every aspects of the libraries, so it's your responsibility to seek out the information that you need.\n",
    "\n",
    "_____"
   ]
  },
  {
   "cell_type": "markdown",
   "metadata": {},
   "source": []
  }
 ],
 "metadata": {
  "kernelspec": {
   "display_name": "databehandling",
   "language": "python",
   "name": "python3"
  },
  "language_info": {
   "codemirror_mode": {
    "name": "ipython",
    "version": 3
   },
   "file_extension": ".py",
   "mimetype": "text/x-python",
   "name": "python",
   "nbconvert_exporter": "python",
   "pygments_lexer": "ipython3",
   "version": "3.13.9"
  }
 },
 "nbformat": 4,
 "nbformat_minor": 2
}
