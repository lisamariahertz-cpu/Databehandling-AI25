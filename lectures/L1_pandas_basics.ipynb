{
 "cells": [
  {
   "cell_type": "markdown",
   "metadata": {},
   "source": [
    "\n",
    "<a href=\"https://colab.research.google.com/github/aleylani/Databehandling-AI25/blob/main/lectures/L1_pandas_basics.ipynb\" target=\"_parent\"><img align=\"left\" src=\"https://colab.research.google.com/assets/colab-badge.svg\" alt=\"Open In Colab\"/></a> &nbsp;"
   ]
  },
  {
   "cell_type": "markdown",
   "metadata": {},
   "source": [
    "## Lecture Notes: Pandas Basics\n",
    "\n",
    "____\n",
    "\n",
    "**Introduction**\n",
    "\n",
    "Pandas is a powerful Python library for data manipulation and analysis. It provides easy-to-use data structures like Series and DataFrame, which allow for efficient handling of structured data.\n",
    "\n",
    "This lecture will introduce key Pandas concepts and operations, providing practical examples along the way. By the end, you'll understand how to:\n",
    "\n",
    "* Create and manipulate Pandas Series and DataFrames\n",
    "* Use essential functions to filter, sort, and summarize data\n",
    "* Differentiate between .iloc and .loc for indexing and selecting data\n",
    "* Handle real-world datasets using CSV files\n",
    "\n",
    "____"
   ]
  },
  {
   "cell_type": "markdown",
   "metadata": {},
   "source": [
    "**Create a new environment**"
   ]
  },
  {
   "cell_type": "markdown",
   "metadata": {},
   "source": [
    "Begin by creating a new environment for this course, let's call it *databehandling*\n",
    "\n",
    "Use the following command.\n",
    "\n",
    "        conda create --name databehandling python=3.12\n",
    "\n",
    "After it's created, active it and run the following to install some necessary libraries for this course.\n",
    "\n",
    "        pip install numpy pandas matplotlib openpyxl ipykernel seaborn plotly_express nbformat "
   ]
  },
  {
   "cell_type": "code",
   "execution_count": 84,
   "metadata": {},
   "outputs": [],
   "source": [
    "import random\n",
    "\n",
    "import numpy as np\n",
    "import pandas as pd"
   ]
  },
  {
   "cell_type": "markdown",
   "metadata": {},
   "source": [
    "____\n",
    "\n",
    "## Pandas Series"
   ]
  },
  {
   "cell_type": "markdown",
   "metadata": {},
   "source": [
    "A Pandas Series is a one-dimensional array-like object that can hold any data type (integers, floats, strings, etc.). \n",
    "\n",
    "What makes a Series powerful is that it comes with labeled indices."
   ]
  },
  {
   "cell_type": "markdown",
   "metadata": {},
   "source": [
    "**Creating a Series**"
   ]
  },
  {
   "cell_type": "markdown",
   "metadata": {},
   "source": [
    "We can create a series from a list, array, dictionary or scalar value."
   ]
  },
  {
   "cell_type": "code",
   "execution_count": null,
   "metadata": {},
   "outputs": [],
   "source": [
    "# using a simple list\n",
    "\n",
    "a_list = [x for x in range(30, 40)]\n",
    "print(a_list)"
   ]
  },
  {
   "cell_type": "code",
   "execution_count": null,
   "metadata": {},
   "outputs": [],
   "source": [
    "my_first_series = pd.Series(a_list)\n",
    "\n",
    "print(my_first_series)"
   ]
  },
  {
   "cell_type": "markdown",
   "metadata": {},
   "source": [
    "Let's check that this really is of the class Series"
   ]
  },
  {
   "cell_type": "code",
   "execution_count": null,
   "metadata": {},
   "outputs": [],
   "source": [
    "isinstance(my_first_series, pd.Series)"
   ]
  },
  {
   "cell_type": "markdown",
   "metadata": {},
   "source": [
    "You'll have ample time to learn more about methods and attributes of the Series class in this course. \n",
    "\n",
    "I highly recommend you to explore the official documentation:\n",
    "\n",
    "https://pandas.pydata.org/docs/reference/api/pandas.Series.html\n",
    "\n",
    "Here are some basic methods:"
   ]
  },
  {
   "cell_type": "code",
   "execution_count": null,
   "metadata": {},
   "outputs": [],
   "source": [
    "print(f'Seriens minsta värde   : {my_first_series.min()}')\n",
    "print(f'Seriens maximala värde : {my_first_series.max()}')\n",
    "print(f'Seriesn medelvärde     : {my_first_series.mean()}')"
   ]
  },
  {
   "cell_type": "markdown",
   "metadata": {},
   "source": [
    "**Interaktion with other series**"
   ]
  },
  {
   "cell_type": "markdown",
   "metadata": {},
   "source": [
    "How does an instance of class Series interact with other instances of the same, under addition, multiplication, division etc?"
   ]
  },
  {
   "cell_type": "code",
   "execution_count": null,
   "metadata": {},
   "outputs": [],
   "source": [
    "another_list = [x*10 for x in range(1, 11)]\n",
    "\n",
    "my_second_series = pd.Series(another_list)\n",
    "\n",
    "print(my_second_series)"
   ]
  },
  {
   "cell_type": "code",
   "execution_count": null,
   "metadata": {},
   "outputs": [],
   "source": [
    "# elementwise addition\n",
    "\n",
    "my_first_series + my_second_series"
   ]
  },
  {
   "cell_type": "code",
   "execution_count": null,
   "metadata": {},
   "outputs": [],
   "source": [
    "# elementwise multiplication \n",
    "\n",
    "my_first_series * my_second_series"
   ]
  },
  {
   "cell_type": "code",
   "execution_count": null,
   "metadata": {},
   "outputs": [],
   "source": [
    "# elementwise division\n",
    "\n",
    "my_first_series / my_second_series"
   ]
  },
  {
   "cell_type": "markdown",
   "metadata": {},
   "source": [
    "We can extract individual elements from a Series by simple indexing"
   ]
  },
  {
   "cell_type": "code",
   "execution_count": null,
   "metadata": {},
   "outputs": [],
   "source": [
    "my_first_series[0] # 0 is the index of the first element"
   ]
  },
  {
   "cell_type": "markdown",
   "metadata": {},
   "source": [
    "We can also do extract multiple elements from a Series"
   ]
  },
  {
   "cell_type": "code",
   "execution_count": null,
   "metadata": {},
   "outputs": [],
   "source": [
    "my_first_series[2:5] # returns all elements from index 2 to 4 (5 not included)"
   ]
  },
  {
   "cell_type": "markdown",
   "metadata": {},
   "source": [
    "Read more about Series in the official documentation linked above!"
   ]
  },
  {
   "cell_type": "markdown",
   "metadata": {},
   "source": [
    "____"
   ]
  },
  {
   "cell_type": "markdown",
   "metadata": {},
   "source": [
    "## Pandas DataFrame"
   ]
  },
  {
   "cell_type": "markdown",
   "metadata": {},
   "source": [
    "A DataFrame is a 2D labeled data structure in Pandas, similar to a table or spreadsheet. \n",
    "\n",
    "Each column can hold different data types (integers, floats, strings, etc.)."
   ]
  },
  {
   "cell_type": "code",
   "execution_count": null,
   "metadata": {},
   "outputs": [],
   "source": [
    "#obs värdena i vår dictionary behöver INTE vara listor, du kan gott kombinera blanda annat listor, arrays & tuples\n",
    "\n",
    "# Let's create a dictionary with some data.\n",
    "# note that the 3 lists are of equal length\n",
    "\n",
    "names = ['Ali', 'Amir', 'Rozann', 'Sawash']\n",
    "age = [34, 1.6, 28, 4]\n",
    "eye_color = ['brown', 'blue', 'green', 'brown']\n",
    "\n",
    "my_dictionary = {'person' : names, \n",
    "                 'age': age, \n",
    "                 'eye color': eye_color}\n",
    "\n",
    "for key, value in my_dictionary.items():\n",
    "\n",
    "    print(f'{key}: {value}')"
   ]
  },
  {
   "cell_type": "markdown",
   "metadata": {},
   "source": [
    "We now have a dictionary. We can instantly create a DataFrame from this dictionary."
   ]
  },
  {
   "cell_type": "code",
   "execution_count": null,
   "metadata": {},
   "outputs": [],
   "source": [
    "# _df is standard naming convention to signifify that this is a DataFrame\n",
    "\n",
    "family_df = pd.DataFrame(my_dictionary)\n",
    "\n",
    "family_df"
   ]
  },
  {
   "cell_type": "code",
   "execution_count": null,
   "metadata": {},
   "outputs": [],
   "source": [
    "# we can run the .info() method to get some information about the DataFrame\n",
    "# note that Dtype \"object\" signifies either a string or a mixed type column (e.g. strings and integers)\n",
    "\n",
    "family_df.info()"
   ]
  },
  {
   "cell_type": "markdown",
   "metadata": {},
   "source": [
    "We can select specific columns from the DataFrame using the column names."
   ]
  },
  {
   "cell_type": "code",
   "execution_count": null,
   "metadata": {},
   "outputs": [],
   "source": [
    "family_df['person']"
   ]
  },
  {
   "cell_type": "markdown",
   "metadata": {},
   "source": [
    "Note that each individual column of a DataFrame is Series!"
   ]
  },
  {
   "cell_type": "code",
   "execution_count": null,
   "metadata": {},
   "outputs": [],
   "source": [
    "isinstance(family_df['person'], pd.Series)"
   ]
  },
  {
   "cell_type": "code",
   "execution_count": null,
   "metadata": {},
   "outputs": [],
   "source": [
    "# We can do simply indexing to get e.g., the first element of a column\n",
    "\n",
    "family_df['person'][0]"
   ]
  },
  {
   "cell_type": "markdown",
   "metadata": {},
   "source": [
    "We can get to individual colums by calling on their names as attributes aswell. "
   ]
  },
  {
   "cell_type": "code",
   "execution_count": null,
   "metadata": {},
   "outputs": [],
   "source": [
    "# note that this method is prone to error if the name of the column contains a space or special characters\n",
    "\n",
    "family_df.person\n",
    "\n",
    "# this wont work\n",
    "# family_df.eye color"
   ]
  },
  {
   "cell_type": "markdown",
   "metadata": {},
   "source": [
    "We can index several columns at once by passing a list of column names to the DataFrame."
   ]
  },
  {
   "cell_type": "code",
   "execution_count": null,
   "metadata": {},
   "outputs": [],
   "source": [
    "family_df[['person', 'eye color']]"
   ]
  },
  {
   "cell_type": "markdown",
   "metadata": {},
   "source": [
    "____"
   ]
  },
  {
   "cell_type": "markdown",
   "metadata": {},
   "source": [
    "## Further indexing\n",
    "\n",
    "In Pandas, selecting specific rows and columns is essential for analyzing data. Pandas offers two primary methods to do this: \n",
    "\n",
    ".loc[] and .iloc[]."
   ]
  },
  {
   "cell_type": "code",
   "execution_count": null,
   "metadata": {},
   "outputs": [],
   "source": [
    "# let's create some new data\n",
    "\n",
    "data = {\n",
    "    'Name': ['Alice', 'Bob', 'Charlie', 'David', 'Eva', 'Frank', 'Grace', 'Helen', 'Ian'],\n",
    "    'Age': [25, 30, 35, 40, 22, 29, 38, 42, 31],\n",
    "    'Salary': [50000, 60000, 70000, 80000, 52000, 58000, 62000, 75000, 55000]\n",
    "}\n",
    "\n",
    "# create a DataFrame from the data\n",
    "\n",
    "df = pd.DataFrame(data)\n",
    "\n",
    "df"
   ]
  },
  {
   "cell_type": "markdown",
   "metadata": {},
   "source": [
    "Before proceeding, just note that dataFrames are super flexible!"
   ]
  },
  {
   "cell_type": "code",
   "execution_count": null,
   "metadata": {},
   "outputs": [],
   "source": [
    "print(df['Salary'].mean())"
   ]
  },
  {
   "cell_type": "markdown",
   "metadata": {},
   "source": [
    "**.iloc[] - Position-based Indexing**\n",
    "\n",
    "Use .iloc[] to select data based on the position of rows and columns."
   ]
  },
  {
   "cell_type": "code",
   "execution_count": null,
   "metadata": {},
   "outputs": [],
   "source": [
    "df.iloc[0] # Select the first row"
   ]
  },
  {
   "cell_type": "code",
   "execution_count": null,
   "metadata": {},
   "outputs": [],
   "source": [
    "# we can use slicing to select mulitple rows\n",
    "\n",
    "df.iloc[0:5] # Select rows from index 0 to 4"
   ]
  },
  {
   "cell_type": "markdown",
   "metadata": {},
   "source": [
    ".iloc[] usually takes two arguments, the first for rows and the second for columns. \n",
    "\n",
    "The syntax is df.iloc[row_indexer, column_indexer]."
   ]
  },
  {
   "cell_type": "code",
   "execution_count": null,
   "metadata": {},
   "outputs": [],
   "source": [
    "print(df.iloc[0, 1]) # Select the element at the first row and second column\n",
    "print(df.iloc[5, 2]) # Select the element at the sixth row and third column"
   ]
  },
  {
   "cell_type": "markdown",
   "metadata": {},
   "source": [
    "We can also use slicing to select multiple rows and columns."
   ]
  },
  {
   "cell_type": "code",
   "execution_count": null,
   "metadata": {},
   "outputs": [],
   "source": [
    "df.iloc[0:3, 0:2] # Select rows 0 to 2 and columns 0 to 1"
   ]
  },
  {
   "cell_type": "code",
   "execution_count": null,
   "metadata": {},
   "outputs": [],
   "source": [
    "df.iloc[2:4, 1:3] # Select rows 2 to 3 and columns 1 to 2"
   ]
  },
  {
   "cell_type": "code",
   "execution_count": null,
   "metadata": {},
   "outputs": [],
   "source": [
    "df.iloc[1:4, :] # Select rows 1 to 3 and all columns"
   ]
  },
  {
   "cell_type": "markdown",
   "metadata": {},
   "source": [
    "We can also give a list of either rows/columns we want to index"
   ]
  },
  {
   "cell_type": "code",
   "execution_count": null,
   "metadata": {},
   "outputs": [],
   "source": [
    "df.iloc[[0, 2, 4], [1, 2]] # Select specific rows and columns"
   ]
  },
  {
   "cell_type": "markdown",
   "metadata": {},
   "source": [
    "**loc**"
   ]
  },
  {
   "cell_type": "markdown",
   "metadata": {},
   "source": [
    "Use .loc[] to select rows and columns by their labels. This is more intuitive when working with labeled data."
   ]
  },
  {
   "cell_type": "code",
   "execution_count": null,
   "metadata": {},
   "outputs": [],
   "source": [
    "data = {\n",
    "    'Name': ['Alice', 'Bob', 'Charlie', 'David', 'Eva', 'Frank', 'Grace', 'Helen', 'Ian'],\n",
    "    'Age': [25, 30, 35, 40, 22, 29, 38, 42, 31],\n",
    "    'Salary': [50000, 60000, 70000, 80000, 52000, 58000, 62000, 75000, 55000]\n",
    "}\n",
    "\n",
    "# create a DataFrame from the data\n",
    "# NOTE that we can pass our own custom index here\n",
    "\n",
    "df = pd.DataFrame(data, index=['a', 'b', 'c', 'd', 'e', 'f', 'g', 'h', 'i'])\n",
    "\n",
    "df"
   ]
  },
  {
   "cell_type": "markdown",
   "metadata": {},
   "source": [
    "Custom index does not affect the .iloc[] method, and we can use it as we did above."
   ]
  },
  {
   "cell_type": "code",
   "execution_count": null,
   "metadata": {},
   "outputs": [],
   "source": [
    "df.iloc[4:8, 0:2]"
   ]
  },
  {
   "cell_type": "code",
   "execution_count": null,
   "metadata": {},
   "outputs": [],
   "source": [
    "df.loc['b'] # Select the row with label 'b'"
   ]
  },
  {
   "cell_type": "code",
   "execution_count": null,
   "metadata": {},
   "outputs": [],
   "source": [
    "print(df.loc['b', 'Age']) # Select the element at row 'b' and column 'Age'"
   ]
  },
  {
   "cell_type": "code",
   "execution_count": null,
   "metadata": {},
   "outputs": [],
   "source": [
    "df.loc[['b', 'd', 'f'], ['Age', 'Salary']] # Select specific rows and columns"
   ]
  },
  {
   "cell_type": "markdown",
   "metadata": {},
   "source": [
    "____"
   ]
  },
  {
   "cell_type": "markdown",
   "metadata": {},
   "source": [
    "## Masking\n",
    "\n",
    "Masking is a powerful feature in Pandas that allows you to filter data based on certain conditions. It's a way to select rows or columns that meet specific criteria. Masking is often used to filter data, perform calculations, or create subsets of data for further analysis."
   ]
  },
  {
   "cell_type": "code",
   "execution_count": null,
   "metadata": {},
   "outputs": [],
   "source": [
    "family_df"
   ]
  },
  {
   "cell_type": "code",
   "execution_count": null,
   "metadata": {},
   "outputs": [],
   "source": [
    "# the above df has 4 rows, so let's create a list of booleans, of the same size\n",
    "\n",
    "my_mask = [True, False, True, False]\n",
    "\n",
    "family_df[my_mask]  # will only show rows where our list value is True"
   ]
  },
  {
   "cell_type": "code",
   "execution_count": null,
   "metadata": {},
   "outputs": [],
   "source": [
    "# we have extreme flexiblity here, we can use any condition we want to create our mask\n",
    "\n",
    "my_color_mask = [color == 'brown' for color in family_df['eye color']]\n",
    "\n",
    "my_color_mask"
   ]
  },
  {
   "cell_type": "code",
   "execution_count": null,
   "metadata": {},
   "outputs": [],
   "source": [
    "family_df[my_color_mask]"
   ]
  },
  {
   "cell_type": "code",
   "execution_count": null,
   "metadata": {},
   "outputs": [],
   "source": [
    "# Series and DataFrames have built-in support a\n",
    "\n",
    "color_filter = family_df['eye color'] == 'brown'  # this creates a Series of booleans, which we can also use as a mask\n",
    "\n",
    "color_filter"
   ]
  },
  {
   "cell_type": "code",
   "execution_count": null,
   "metadata": {},
   "outputs": [],
   "source": [
    "family_df[color_filter]"
   ]
  },
  {
   "cell_type": "code",
   "execution_count": null,
   "metadata": {},
   "outputs": [],
   "source": [
    "# we can also create and use a mask instantly aswell (not best practice though)\n",
    "\n",
    "family_df[family_df['age'] > 10]"
   ]
  },
  {
   "cell_type": "code",
   "execution_count": null,
   "metadata": {},
   "outputs": [],
   "source": [
    "# if we want to store the filtered information in a seperate df, we can easily do so.\n",
    "\n",
    "age_mask = family_df['age'] > 10\n",
    "\n",
    "mature_df = family_df[age_mask]\n",
    "\n",
    "mature_df"
   ]
  },
  {
   "cell_type": "markdown",
   "metadata": {},
   "source": [
    "You can combine filters too!\n",
    "\n",
    "Only rows that satisfy both conditions will then be selected."
   ]
  },
  {
   "cell_type": "code",
   "execution_count": null,
   "metadata": {},
   "outputs": [],
   "source": [
    "print(age_mask)\n",
    "\n",
    "print(color_filter)"
   ]
  },
  {
   "cell_type": "code",
   "execution_count": null,
   "metadata": {},
   "outputs": [],
   "source": [
    "family_df[age_mask & color_filter]"
   ]
  },
  {
   "cell_type": "markdown",
   "metadata": {},
   "source": [
    "A little bit more fun, just to show how much flexibility we have in creating masks"
   ]
  },
  {
   "cell_type": "code",
   "execution_count": null,
   "metadata": {},
   "outputs": [],
   "source": [
    "df"
   ]
  },
  {
   "cell_type": "code",
   "execution_count": null,
   "metadata": {},
   "outputs": [],
   "source": [
    "short_names_filter = [len(name) < 4 for name in df['Name']]\n",
    "\n",
    "df[short_names_filter]"
   ]
  },
  {
   "cell_type": "markdown",
   "metadata": {},
   "source": [
    "We can also NEGATE a Series. This is very handy when we want to get the oppostive of a mask.\n",
    "\n",
    "We negate a Series using the ~ symbol."
   ]
  },
  {
   "cell_type": "code",
   "execution_count": null,
   "metadata": {},
   "outputs": [],
   "source": [
    "age_mask"
   ]
  },
  {
   "cell_type": "code",
   "execution_count": null,
   "metadata": {},
   "outputs": [],
   "source": [
    "~age_mask # note that all True have been turned into False, and vice versa"
   ]
  },
  {
   "cell_type": "code",
   "execution_count": null,
   "metadata": {},
   "outputs": [],
   "source": [
    "family_df[~age_mask] # this now gives us the oppostive of the original mask"
   ]
  },
  {
   "cell_type": "markdown",
   "metadata": {},
   "source": [
    "____"
   ]
  },
  {
   "cell_type": "markdown",
   "metadata": {},
   "source": [
    "## Read excel"
   ]
  },
  {
   "cell_type": "code",
   "execution_count": null,
   "metadata": {},
   "outputs": [],
   "source": [
    "calories_df = pd.read_excel('../data/calories.xlsx')\n",
    "\n",
    "calories_df"
   ]
  },
  {
   "cell_type": "code",
   "execution_count": null,
   "metadata": {},
   "outputs": [],
   "source": [
    "calories_df.info()"
   ]
  },
  {
   "cell_type": "code",
   "execution_count": null,
   "metadata": {},
   "outputs": [],
   "source": [
    "# see the first 5 rows of the dataframe\n",
    "\n",
    "calories_df.head()\n",
    "\n",
    "# calories_df.head(10)\n",
    "\n",
    "# calories_df.tail(10)"
   ]
  },
  {
   "cell_type": "code",
   "execution_count": null,
   "metadata": {},
   "outputs": [],
   "source": [
    "# print the unique values of a column\n",
    "\n",
    "print(calories_df['FoodCategory'].unique())"
   ]
  },
  {
   "cell_type": "code",
   "execution_count": null,
   "metadata": {},
   "outputs": [],
   "source": [
    "# see how many unique values this column contains\n",
    "\n",
    "calories_df['FoodCategory'].nunique()"
   ]
  },
  {
   "cell_type": "code",
   "execution_count": null,
   "metadata": {},
   "outputs": [],
   "source": [
    "# see the amount of each unique value in a column\n",
    "\n",
    "calories_df['FoodCategory'].value_counts()"
   ]
  },
  {
   "cell_type": "code",
   "execution_count": null,
   "metadata": {},
   "outputs": [],
   "source": [
    "calories_df.iloc[224]"
   ]
  },
  {
   "cell_type": "code",
   "execution_count": null,
   "metadata": {},
   "outputs": [],
   "source": [
    "calories_df[calories_df['FoodCategory']=='FastFood']"
   ]
  },
  {
   "cell_type": "markdown",
   "metadata": {},
   "source": [
    "____"
   ]
  },
  {
   "cell_type": "markdown",
   "metadata": {},
   "source": [
    "# Rename columns"
   ]
  },
  {
   "cell_type": "code",
   "execution_count": null,
   "metadata": {},
   "outputs": [],
   "source": [
    "calories_df"
   ]
  },
  {
   "cell_type": "code",
   "execution_count": 141,
   "metadata": {},
   "outputs": [],
   "source": [
    "calories_df = calories_df.rename( columns={'FoodItem':'Food'} )"
   ]
  },
  {
   "cell_type": "markdown",
   "metadata": {},
   "source": [
    "___\n",
    "\n",
    "## A bit of data cleaning \n",
    "\n",
    "We will very often need to handle and manipulate data in dataframes, e.g.,\n",
    "\n",
    "change column names, change element values, create new columns, handle missing data, alter values etc etc."
   ]
  },
  {
   "cell_type": "markdown",
   "metadata": {},
   "source": [
    "Let's say we want to create a new column wherein cals/100g is given as integers - not strings, as it is now."
   ]
  },
  {
   "cell_type": "code",
   "execution_count": null,
   "metadata": {},
   "outputs": [],
   "source": [
    "calories_df.info()"
   ]
  },
  {
   "cell_type": "code",
   "execution_count": null,
   "metadata": {},
   "outputs": [],
   "source": [
    "# we can index elements in a string Series by using .str[]\n",
    "\n",
    "calories_df['Cals_per100grams'].str[:-4] # by doing this, we remove the last 4 characters of each string in the Series which in this case is ' cal'."
   ]
  },
  {
   "cell_type": "code",
   "execution_count": null,
   "metadata": {},
   "outputs": [],
   "source": [
    "calories_df['Cals_per100grams'].str[:-4].astype(int) # we've now also converted the datatypes to integers."
   ]
  },
  {
   "cell_type": "markdown",
   "metadata": {},
   "source": [
    "Another way of doing the same thing is perhaps the following"
   ]
  },
  {
   "cell_type": "code",
   "execution_count": null,
   "metadata": {},
   "outputs": [],
   "source": [
    "# loop over each value in the Series and only keep the numbers. Exploit the fact that the we can split by a blanc space here.\n",
    "# also, directly convert the number from strings to integers\n",
    "\n",
    "only_number_portion = [int(x.split()[0]) for x in calories_df['Cals_per100grams']]\n",
    "\n",
    "print(only_number_portion)"
   ]
  },
  {
   "cell_type": "code",
   "execution_count": 146,
   "metadata": {},
   "outputs": [],
   "source": [
    "# add the new list as a new column to the dataframe\n",
    "\n",
    "calories_df['cals/100g in integers'] = only_number_portion"
   ]
  },
  {
   "cell_type": "code",
   "execution_count": null,
   "metadata": {},
   "outputs": [],
   "source": [
    "calories_df.head()"
   ]
  },
  {
   "cell_type": "code",
   "execution_count": null,
   "metadata": {},
   "outputs": [],
   "source": [
    "calories_df.info()"
   ]
  },
  {
   "cell_type": "markdown",
   "metadata": {},
   "source": [
    "____\n",
    "\n",
    "## Sort DataFrame"
   ]
  },
  {
   "cell_type": "code",
   "execution_count": null,
   "metadata": {},
   "outputs": [],
   "source": [
    "calories_df.sort_values(by='cals/100g in integers') # by default, ascending=True"
   ]
  },
  {
   "cell_type": "code",
   "execution_count": null,
   "metadata": {},
   "outputs": [],
   "source": [
    "calories_df.sort_values(by='cals/100g in integers', ascending=False)"
   ]
  },
  {
   "cell_type": "code",
   "execution_count": null,
   "metadata": {},
   "outputs": [],
   "source": [
    "calories_df.head(20)"
   ]
  },
  {
   "cell_type": "code",
   "execution_count": null,
   "metadata": {},
   "outputs": [],
   "source": [
    "calories_df.tail(20)"
   ]
  },
  {
   "cell_type": "markdown",
   "metadata": {},
   "source": [
    "____"
   ]
  },
  {
   "cell_type": "markdown",
   "metadata": {},
   "source": [
    "## Read excel with several sheets and choose header column"
   ]
  },
  {
   "cell_type": "code",
   "execution_count": null,
   "metadata": {},
   "outputs": [],
   "source": [
    "population_df = pd.read_excel('../data/komtopp50_2020.xlsx', sheet_name='Totalt', header=6)\n",
    "\n",
    "population_df"
   ]
  },
  {
   "cell_type": "markdown",
   "metadata": {},
   "source": [
    "reset_index of a view, and assign it to a new variable"
   ]
  },
  {
   "cell_type": "code",
   "execution_count": 153,
   "metadata": {},
   "outputs": [],
   "source": [
    "sorted_df = population_df.sort_values(by=2020, ascending=False).reset_index(drop=True)"
   ]
  },
  {
   "cell_type": "code",
   "execution_count": null,
   "metadata": {},
   "outputs": [],
   "source": [
    "sorted_df"
   ]
  },
  {
   "cell_type": "markdown",
   "metadata": {},
   "source": [
    "____\n",
    "\n",
    "## Assigning and re-assigning columns in a DataFrame"
   ]
  },
  {
   "cell_type": "code",
   "execution_count": null,
   "metadata": {},
   "outputs": [],
   "source": [
    "family_df"
   ]
  },
  {
   "cell_type": "code",
   "execution_count": 159,
   "metadata": {},
   "outputs": [],
   "source": [
    "family_df['gender'] = ['male', 'male', 'female', 'male']"
   ]
  },
  {
   "cell_type": "code",
   "execution_count": null,
   "metadata": {},
   "outputs": [],
   "source": [
    "family_df"
   ]
  },
  {
   "cell_type": "code",
   "execution_count": null,
   "metadata": {},
   "outputs": [],
   "source": [
    "# series har stöd för elementvisa operationer\n",
    "\n",
    "# elementvis addition nedan\n",
    "\n",
    "family_df['age'] = family_df['age'] + 1\n",
    "\n",
    "family_df"
   ]
  },
  {
   "cell_type": "code",
   "execution_count": null,
   "metadata": {},
   "outputs": [],
   "source": [
    "family_df['age'] = family_df['age']*2\n",
    "\n",
    "family_df"
   ]
  },
  {
   "cell_type": "code",
   "execution_count": null,
   "metadata": {},
   "outputs": [],
   "source": [
    "new_colors = ['purple', 'indigo', 'violet', 'cyan']\n",
    "\n",
    "family_df['eye color'] = new_colors\n",
    "\n",
    "family_df"
   ]
  },
  {
   "cell_type": "markdown",
   "metadata": {},
   "source": [
    "____"
   ]
  },
  {
   "cell_type": "markdown",
   "metadata": {},
   "source": [
    "## Concatenate two DataFrames"
   ]
  },
  {
   "cell_type": "code",
   "execution_count": null,
   "metadata": {},
   "outputs": [],
   "source": [
    "# create and concat two dfs\n",
    "\n",
    "more_data = {'person':['john', 'jane', 'jim'], \n",
    "             'age':[23, 24, 25], \n",
    "             'eye color':['dark', 'darker', 'lightest']}\n",
    "\n",
    "strangers_df = pd.DataFrame(more_data)\n",
    "strangers_df"
   ]
  },
  {
   "cell_type": "code",
   "execution_count": null,
   "metadata": {},
   "outputs": [],
   "source": [
    "pd.concat( [family_df, strangers_df] )"
   ]
  },
  {
   "cell_type": "markdown",
   "metadata": {},
   "source": [
    "____"
   ]
  },
  {
   "cell_type": "markdown",
   "metadata": {},
   "source": [
    "## Plot data with Matplotlib\n",
    "\n",
    "You're going to get **really** good at plotting in this course. Here's a soft start."
   ]
  },
  {
   "cell_type": "code",
   "execution_count": null,
   "metadata": {},
   "outputs": [],
   "source": [
    "old_colors = ['blue', 'brown', 'green', 'brown']\n",
    "\n",
    "family_df['eye color'] = old_colors\n",
    "\n",
    "family_df"
   ]
  },
  {
   "cell_type": "code",
   "execution_count": null,
   "metadata": {},
   "outputs": [],
   "source": [
    "family_df['eye color'].value_counts()"
   ]
  },
  {
   "cell_type": "code",
   "execution_count": null,
   "metadata": {},
   "outputs": [],
   "source": [
    "# we can get the values of a Series using .values\n",
    "\n",
    "counts = family_df['eye color'].value_counts().values\n",
    "\n",
    "print(counts)"
   ]
  },
  {
   "cell_type": "code",
   "execution_count": null,
   "metadata": {},
   "outputs": [],
   "source": [
    "# likewise, we can get the index of a Series using .index.values\n",
    "\n",
    "colors = family_df['eye color'].value_counts().index.values\n",
    "\n",
    "print(colors)"
   ]
  },
  {
   "cell_type": "code",
   "execution_count": null,
   "metadata": {},
   "outputs": [],
   "source": [
    "import matplotlib.pyplot as plt\n",
    "\n",
    "plt.bar(colors, counts)\n",
    "plt.show()"
   ]
  },
  {
   "cell_type": "markdown",
   "metadata": {},
   "source": [
    "____\n",
    "\n",
    "## Two Important Notes \n",
    "\n",
    "\n",
    "\n",
    "* It's VERY important that you put alot of time into being mindful with what you visualize, but also HOW you visualize it\n",
    "\n",
    "* Furthermore, I'm going to require you to read the documentation of libraries we use. Including Pandas, Matplotlib and more. \n",
    "\n",
    "We will not have nearly enough time to cover every aspects of the libraries, so it's your responsibility to seek out the information you need."
   ]
  },
  {
   "cell_type": "markdown",
   "metadata": {},
   "source": [
    "____\n",
    "\n",
    "## Read more\n",
    "\n",
    "- [documentation - Pandas](https://pandas.pydata.org/pandas-docs/stable/getting_started/index.html)\n",
    "\n",
    "- [documentation - Series](https://pandas.pydata.org/pandas-docs/stable/reference/api/pandas.Series.html#pandas.Series)\n",
    "\n",
    "- [documentation - DataFrame](https://pandas.pydata.org/pandas-docs/stable/reference/api/pandas.DataFrame.html?highlight=dataframe#pandas.DataFrame)\n",
    "\n",
    "- [documentation - read_csv](https://pandas.pydata.org/pandas-docs/stable/reference/api/pandas.read_csv.html)\n",
    "\n",
    "- [documentation - indexing](https://pandas.pydata.org/pandas-docs/stable/user_guide/indexing.html)\n",
    "\n",
    "- [documentation - masking](https://pandas.pydata.org/docs/reference/api/pandas.DataFrame.mask.html)\n",
    "\n",
    "- [documentation - read_excel](https://pandas.pydata.org/docs/reference/api/pandas.read_excel.html)\n",
    "\n",
    "---"
   ]
  }
 ],
 "metadata": {
  "kernelspec": {
   "display_name": "databehandling",
   "language": "python",
   "name": "python3"
  },
  "language_info": {
   "codemirror_mode": {
    "name": "ipython",
    "version": 3
   },
   "file_extension": ".py",
   "mimetype": "text/x-python",
   "name": "python",
   "nbconvert_exporter": "python",
   "pygments_lexer": "ipython3",
   "version": "3.12.7"
  }
 },
 "nbformat": 4,
 "nbformat_minor": 2
}
